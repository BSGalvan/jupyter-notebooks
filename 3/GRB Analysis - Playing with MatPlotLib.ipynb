{
 "cells": [
  {
   "cell_type": "code",
   "execution_count": 1,
   "metadata": {},
   "outputs": [],
   "source": [
    "# Imports\n",
    "import numpy as np\n",
    "import matplotlib.pyplot as plt\n",
    "import scipy.constants as c\n",
    "from sklearn.linear_model import LinearRegression as LR"
   ]
  },
  {
   "cell_type": "code",
   "execution_count": 2,
   "metadata": {
    "scrolled": false
   },
   "outputs": [],
   "source": [
    "# Read from opt.dat\n",
    "fname = 'opt.dat'\n",
    "numdata = np.loadtxt(fname, usecols=(0, 1, 2))\n",
    "filterdata = np.loadtxt(fname, usecols=(3), dtype='str')"
   ]
  },
  {
   "cell_type": "code",
   "execution_count": 3,
   "metadata": {},
   "outputs": [],
   "source": [
    "# Obtain I-band magnitude and errors alone, by masking for it. Also get time support\n",
    "mask = filterdata == 'I'\n",
    "ibandmag = numdata[mask][:,1]\n",
    "ibandmagerror = numdata[mask][:,2]\n",
    "time = numdata[mask][:,0]"
   ]
  },
  {
   "cell_type": "code",
   "execution_count": 4,
   "metadata": {},
   "outputs": [],
   "source": [
    "# Convert from magnitude to flux. Also do error propagation\n",
    "ibandflux = np.power(10, -0.4 * ibandmag - 19.44) \n",
    "ibandfluxerror = np.power(10, -0.4 * ibandmag - 19.44) * np.log(10) * (-0.4) * np.std(ibandmag)"
   ]
  },
  {
   "cell_type": "markdown",
   "metadata": {},
   "source": [
    "### Error Propagation \n",
    "Suppose $x = f(u,v)$ and that u, v are uncorrelated with errors $\\sigma_{u,v}$ respectively. Then, the error in :\n",
    "1. $x = au \\pm bv $ is $\\sigma_x^2 = a^2 \\sigma_u^2 + b^2 \\sigma_v^2$\n",
    "2. $x = \\pm a \\dfrac{u}{v} \\text{ or } x = \\pm a u \\cdot v$ is $\\left(\\dfrac{\\sigma_x}{x}\\right)^2 = \\left(\\dfrac{\\sigma_u}{u}\\right)^2 + \\left(\\dfrac{\\sigma_v}{v}\\right)^2$\n",
    "3. $x = \\exp(\\pm bu) $ is $\\dfrac{\\sigma_x}{x} = b \\sigma_u$\n",
    "4. $x = \\ln(\\pm bu)$ is $\\sigma_x = a \\dfrac{\\sigma_u}{u}$\n",
    "5. $x = au^{\\pm b}$ is $\\dfrac{\\sigma_x}{x} = b \\dfrac{\\sigma_u}{u}$"
   ]
  },
  {
   "cell_type": "code",
   "execution_count": 6,
   "metadata": {},
   "outputs": [
    {
     "data": {
      "text/plain": [
       "<matplotlib.legend.Legend at 0x1a1b34abe0>"
      ]
     },
     "execution_count": 6,
     "metadata": {},
     "output_type": "execute_result"
    },
    {
     "data": {
      "image/png": "[encoded data removed]",
      "text/plain": [
       "<Figure size 432x288 with 1 Axes>"
      ]
     },
     "metadata": {
      "needs_background": "light"
     },
     "output_type": "display_data"
    }
   ],
   "source": [
    "# Plot the I-band flux and errors\n",
    "plt.errorbar(time, ibandflux, yerr=ibandfluxerror, fmt='ko', mfc='r', mec='k', lolims=True, uplims=True, label='I-band Flux')\n",
    "plt.xlabel('Time(s)')\n",
    "plt.ylabel('I-Band Flux')\n",
    "plt.title('Variation of Flux from a GRB with time')\n",
    "plt.legend()\n",
    "#plt.savefig('fluxvtime')"
   ]
  },
  {
   "cell_type": "code",
   "execution_count": 7,
   "metadata": {},
   "outputs": [],
   "source": [
    "# Define the data to regress\n",
    "x = np.log(time.reshape(-1,1))\n",
    "y = np.log(ibandflux)"
   ]
  },
  {
   "cell_type": "code",
   "execution_count": 8,
   "metadata": {},
   "outputs": [],
   "source": [
    "# Fit a Linear Regression model to the regression data\n",
    "model = LR().fit(x, y)"
   ]
  },
  {
   "cell_type": "code",
   "execution_count": 9,
   "metadata": {},
   "outputs": [],
   "source": [
    "# Get fit parameters\n",
    "rscore = model.score(x, y) # Coefficient of Determination. Higher is better.\n",
    "slope = model.coef_ # Slope\n",
    "intercept = model.intercept_ # Intercept"
   ]
  },
  {
   "cell_type": "code",
   "execution_count": 44,
   "metadata": {},
   "outputs": [
    {
     "name": "stdout",
     "output_type": "stream",
     "text": [
      "The results of linear fitting are - \n",
      "\t Coefficient of Determination : 0.992131\n",
      "\t Slope of the line : -1.371264\n",
      "\t Intercept of the line : -50.886725\n"
     ]
    }
   ],
   "source": [
    "print(\"The results of linear fitting are - \")\n",
    "print(\"\\t Coefficient of Determination : %.6f\" % (rscore))\n",
    "print(\"\\t Slope of the line : %.6f\" % (slope))\n",
    "print(\"\\t Intercept of the line : %.6f\" % (intercept))"
   ]
  }
 ],
 "metadata": {
  "kernelspec": {
   "display_name": "Python 3",
   "language": "python",
   "name": "python3"
  },
  "language_info": {
   "codemirror_mode": {
    "name": "ipython",
    "version": 3
   },
   "file_extension": ".py",
   "mimetype": "text/x-python",
   "name": "python",
   "nbconvert_exporter": "python",
   "pygments_lexer": "ipython3",
   "version": "3.7.3"
  }
 },
 "nbformat": 4,
 "nbformat_minor": 2
}
