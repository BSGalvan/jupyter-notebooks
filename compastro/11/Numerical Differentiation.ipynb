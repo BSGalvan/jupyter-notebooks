{
 "cells": [
  {
   "cell_type": "code",
   "execution_count": 1,
   "metadata": {},
   "outputs": [],
   "source": [
    "### Imports and Auxiliary function definitions\n",
    "\n",
    "import numpy as np\n",
    "import matplotlib.pyplot as plt\n",
    "\n",
    "%matplotlib nbagg\n",
    "\n",
    "def f(x):\n",
    "    return(x * np.exp(x))\n",
    "\n",
    "def f_prime(x):\n",
    "    return(np.exp(x) + x * np.exp(x))\n",
    "\n",
    "def f_doubleprime(x):\n",
    "    return(2 * np.exp(x) + x * np.exp(x))"
   ]
  },
  {
   "cell_type": "code",
   "execution_count": 2,
   "metadata": {},
   "outputs": [],
   "source": [
    "### 1st Derivative Methods\n",
    "\n",
    "def forward_first(h, x_0): # Forward Difference Method for First Derivatives\n",
    "    value = ( f(x_0 + h) - f(x_0) ) / h\n",
    "    return value\n",
    "\n",
    "def backward_first(h, x_0): # Backward Difference Method for First Derivatives\n",
    "    value = ( f(x_0) - f(x_0 - h) ) / h\n",
    "    return value\n",
    "\n",
    "def central_first(h, x_0): # # Central Difference Method for First Derivatives\n",
    "    value = ( f(x_0 + h) - f(x_0 - h) ) / (2 * h)\n",
    "    return value"
   ]
  },
  {
   "cell_type": "code",
   "execution_count": 3,
   "metadata": {},
   "outputs": [],
   "source": [
    "### Richardson Algorithm for (better) First Derivative\n",
    "\n",
    "def better_first(h, x_0):\n",
    "    value = ( f(x_0 - 2 * h) - 8 * f(x_0 - h) + 8 * f(x_0 + h) -f(x_0 + 2 * h) ) / (12 * h)\n",
    "    return value"
   ]
  },
  {
   "cell_type": "code",
   "execution_count": 4,
   "metadata": {},
   "outputs": [],
   "source": [
    "### Second Derivative Methods\n",
    "\n",
    "def forward_second(h, x_0): # Forward Difference Method for Second Derivatives\n",
    "    value = ( f(x_0 + 2 * h) - 2 * f(x_0 + h) + f(x_0) ) / (h**2)\n",
    "    return value\n",
    "\n",
    "def backward_second(h, x_0): # Backward Difference Method for Second Derivatives\n",
    "    value = ( f(x_0 - 2 * h) - 2 * f(x_0 - h) + f(x_0) ) / (h**2)\n",
    "    return value\n",
    "\n",
    "def central_second(h, x_0): # Central Difference Method for Second Derivatives\n",
    "    value = ( f(x_0 + h) - 2 * f(x_0) + f(x_0 - h) ) / (h**2)\n",
    "    return value"
   ]
  },
  {
   "cell_type": "code",
   "execution_count": 5,
   "metadata": {},
   "outputs": [],
   "source": [
    "### Evaluation of various methods\n",
    "\n",
    "#Parameters\n",
    "h = np.arange(0.05, 0.5, 0.05)\n",
    "x_0 = 2\n",
    "\n",
    "#Actual values\n",
    "actual_first = f_prime(x_0)\n",
    "actual_second = f_doubleprime(x_0)\n",
    "\n",
    "#Numerical values\n",
    "first_forward = forward_first(h, x_0)\n",
    "first_backward = backward_first(h, x_0)\n",
    "first_central = central_first(h, x_0)\n",
    "first_better = better_first(h, x_0)\n",
    "second_forward = forward_second(h, x_0)\n",
    "second_backward = backward_second(h, x_0)\n",
    "second_central = central_second(h, x_0)"
   ]
  },
  {
   "cell_type": "code",
   "execution_count": 6,
   "metadata": {},
   "outputs": [],
   "source": [
    "### Error Calculations\n",
    "\n",
    "errorinfirst_forward = np.abs( actual_first - first_forward )\n",
    "errorinfirst_backward = np.abs( actual_first - first_backward )\n",
    "errorinfirst_central = np.abs( actual_first - first_central )\n",
    "errorinfirst_better = np.abs( actual_first - first_better )\n",
    "errorinsecond_forward = np.abs( actual_second - second_forward )\n",
    "errorinsecond_backward = np.abs( actual_second - second_backward )\n",
    "errorinsecond_central = np.abs( actual_second - second_central ) "
   ]
  },
  {
   "cell_type": "code",
   "execution_count": 7,
   "metadata": {},
   "outputs": [
    {
     "data": {
      "text/plain": [
       "array([0.72373998, 1.41804072, 2.08419442, 2.72343449, 3.33693824,\n",
       "       3.92582952, 4.4911812 , 5.0340175 , 5.55531626])"
      ]
     },
     "execution_count": 7,
     "metadata": {},
     "output_type": "execute_result"
    }
   ],
   "source": [
    "errorinfirst_backward"
   ]
  },
  {
   "cell_type": "code",
   "execution_count": 8,
   "metadata": {},
   "outputs": [
    {
     "data": {
      "text/plain": [
       "array([0.7545331 , 1.54127789, 2.36172074, 3.21741921, 4.11000544,\n",
       "       5.04118986, 6.012765  , 7.02660949, 8.08469229])"
      ]
     },
     "execution_count": 8,
     "metadata": {},
     "output_type": "execute_result"
    }
   ],
   "source": [
    "errorinfirst_forward"
   ]
  },
  {
   "cell_type": "code",
   "execution_count": 9,
   "metadata": {},
   "outputs": [
    {
     "data": {
      "text/plain": [
       "21.443428314243604"
      ]
     },
     "execution_count": 9,
     "metadata": {},
     "output_type": "execute_result"
    }
   ],
   "source": [
    "backward_first(0.05, 2)"
   ]
  },
  {
   "cell_type": "code",
   "execution_count": 10,
   "metadata": {},
   "outputs": [
    {
     "data": {
      "text/plain": [
       "22.921701401351555"
      ]
     },
     "execution_count": 10,
     "metadata": {},
     "output_type": "execute_result"
    }
   ],
   "source": [
    "forward_first(0.05, 2)"
   ]
  },
  {
   "cell_type": "code",
   "execution_count": 24,
   "metadata": {},
   "outputs": [
    {
     "data": {
      "text/plain": [
       "22.18256485779758"
      ]
     },
     "execution_count": 24,
     "metadata": {},
     "output_type": "execute_result"
    }
   ],
   "source": [
    "central_first(0.05, 2)"
   ]
  },
  {
   "cell_type": "code",
   "execution_count": 12,
   "metadata": {},
   "outputs": [
    {
     "data": {
      "text/plain": [
       "22.167157516961"
      ]
     },
     "execution_count": 12,
     "metadata": {},
     "output_type": "execute_result"
    }
   ],
   "source": [
    "better_first(0.05, 2)"
   ]
  },
  {
   "cell_type": "code",
   "execution_count": 13,
   "metadata": {},
   "outputs": [
    {
     "data": {
      "text/plain": [
       "22.16716829679195"
      ]
     },
     "execution_count": 13,
     "metadata": {},
     "output_type": "execute_result"
    }
   ],
   "source": [
    "f_prime(2)"
   ]
  },
  {
   "cell_type": "code",
   "execution_count": 14,
   "metadata": {},
   "outputs": [
    {
     "data": {
      "image/png": "[encoded data removed]",
      "text/plain": [
       "<Figure size 432x288 with 1 Axes>"
      ]
     },
     "metadata": {
      "needs_background": "light"
     },
     "output_type": "display_data"
    }
   ],
   "source": [
    "### Plotting the errors in the First Derivatives\n",
    "fig = plt.figure()\n",
    "plt.loglog(h, errorinfirst_forward, 'k>-', mfc='r', label='Forward')\n",
    "plt.loglog(h, errorinfirst_backward, 'k<-', mfc='r', label='Backward')\n",
    "plt.loglog(h, errorinfirst_central, 'ko-', mfc='r', label='Central')\n",
    "plt.loglog(h, errorinfirst_better, 'k*-', mfc='r', label='Richardson')\n",
    "plt.xlabel('log(h)')\n",
    "plt.ylabel('log(Error)')\n",
    "plt.legend()\n",
    "plt.title('Errors in first derivatives computed using various methods')\n",
    "plt.grid(True)"
   ]
  },
  {
   "cell_type": "code",
   "execution_count": 15,
   "metadata": {},
   "outputs": [
    {
     "data": {
      "text/plain": [
       "31.46979135824494"
      ]
     },
     "execution_count": 15,
     "metadata": {},
     "output_type": "execute_result"
    }
   ],
   "source": [
    "forward_second(0.05, 2)"
   ]
  },
  {
   "cell_type": "code",
   "execution_count": 16,
   "metadata": {},
   "outputs": [
    {
     "data": {
      "text/plain": [
       "27.77202955746744"
      ]
     },
     "execution_count": 16,
     "metadata": {},
     "output_type": "execute_result"
    }
   ],
   "source": [
    "backward_second(0.05, 2)"
   ]
  },
  {
   "cell_type": "code",
   "execution_count": 17,
   "metadata": {},
   "outputs": [
    {
     "data": {
      "text/plain": [
       "29.56546174215901"
      ]
     },
     "execution_count": 17,
     "metadata": {},
     "output_type": "execute_result"
    }
   ],
   "source": [
    "central_second(0.05, 2)"
   ]
  },
  {
   "cell_type": "code",
   "execution_count": 18,
   "metadata": {},
   "outputs": [
    {
     "data": {
      "text/plain": [
       "29.5562243957226"
      ]
     },
     "execution_count": 18,
     "metadata": {},
     "output_type": "execute_result"
    }
   ],
   "source": [
    "f_doubleprime(2)"
   ]
  },
  {
   "cell_type": "code",
   "execution_count": 19,
   "metadata": {},
   "outputs": [
    {
     "data": {
      "image/png": "[encoded data removed]",
      "text/plain": [
       "<Figure size 432x288 with 1 Axes>"
      ]
     },
     "metadata": {
      "needs_background": "light"
     },
     "output_type": "display_data"
    }
   ],
   "source": [
    "### Plotting the errors in the Second Derivatives\n",
    "fig = plt.figure()\n",
    "plt.loglog(h, errorinsecond_forward, 'k>-', mfc='b', label='Forward')\n",
    "plt.loglog(h, errorinsecond_backward, 'k<-', mfc='b', label='Backward')\n",
    "plt.loglog(h, errorinsecond_central, 'ko-', mfc='b', label='Central')\n",
    "plt.xlabel('log(h)')\n",
    "plt.ylabel('log(Error)')\n",
    "plt.legend()\n",
    "plt.title('Errors in second derivatives computed using various methods')\n",
    "plt.grid(True)"
   ]
  }
 ],
 "metadata": {
  "kernelspec": {
   "display_name": "Python 3",
   "language": "python",
   "name": "python3"
  },
  "language_info": {
   "codemirror_mode": {
    "name": "ipython",
    "version": 3
   },
   "file_extension": ".py",
   "mimetype": "text/x-python",
   "name": "python",
   "nbconvert_exporter": "python",
   "pygments_lexer": "ipython3",
   "version": "3.7.4"
  }
 },
 "nbformat": 4,
 "nbformat_minor": 2
}
