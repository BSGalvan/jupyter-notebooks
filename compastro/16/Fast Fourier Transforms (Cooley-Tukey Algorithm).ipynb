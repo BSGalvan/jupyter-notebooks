{
 "cells": [
  {
   "cell_type": "code",
   "execution_count": 1,
   "metadata": {},
   "outputs": [],
   "source": [
    "### Imports\n",
    "\n",
    "import numpy as np\n",
    "from math import pi"
   ]
  },
  {
   "cell_type": "code",
   "execution_count": 2,
   "metadata": {},
   "outputs": [],
   "source": [
    "### Auxiliary Functions for Number System Manipulations\n",
    "\n",
    "def toBinary(x, bits):\n",
    "    num = []\n",
    "    while x > 1:\n",
    "        rem = x % 2\n",
    "        num.append(rem)\n",
    "        x = int(x / 2)\n",
    "    num.append(x)\n",
    "    num = num[::-1]\n",
    "    if(bits > len(num)):\n",
    "        for i in range(bits - len(num)):\n",
    "            num.insert(0, 0)\n",
    "    return num\n",
    "\n",
    "def toDecimal(x):\n",
    "    x = np.array(x)\n",
    "    x = x[::-1]\n",
    "    n = np.size(x)\n",
    "    value = np.sum(np.power(2, np.arange(n)) * x)\n",
    "    return(value)\n",
    "\n",
    "def bitreverser(x):\n",
    "    x = np.array(x)\n",
    "    N = np.size(x)\n",
    "    indexes = np.arange(N)\n",
    "    for i in range(N):\n",
    "        indexes[i] = toDecimal(toBinary(indexes[i], int(np.log(N) / np.log(2)))[::-1])\n",
    "    return(x[indexes])"
   ]
  },
  {
   "cell_type": "code",
   "execution_count": 3,
   "metadata": {},
   "outputs": [],
   "source": [
    "### Auxiliary Functions for FFT Calculations\n",
    "\n",
    "def X(m, n, N):\n",
    "    return(np.exp(-(2 * pi) * 1j * m * n / N))\n",
    "\n",
    "def X_inv(m, n, N):\n",
    "    return(np.exp((2 * pi) * 1j * m * n / N))\n",
    "\n",
    "def calculateButterFly_inv(a, b, bf, N):\n",
    "    add = a + X_inv(bf ,1, N) * b\n",
    "    sub = a - X_inv(bf, 1, N) * b\n",
    "    return(add, sub)\n",
    "    \n",
    "def calculateButterFly(a, b, bf, N):\n",
    "    add = a + X(bf ,1, N) * b\n",
    "    sub = a - X(bf, 1, N) * b\n",
    "    return(add, sub)"
   ]
  },
  {
   "cell_type": "code",
   "execution_count": 4,
   "metadata": {},
   "outputs": [],
   "source": [
    "### Main FFT Code\n",
    "\n",
    "def fft(x):\n",
    "    N = np.size(x)\n",
    "    stages = int(np.log(N) / np.log(2))\n",
    "    values = bitreverser(np.array(x, dtype='complex'))\n",
    "    for stage in range(stages):\n",
    "        blocks = int( N / ( 2 ** (stage + 1) ) )\n",
    "        butterflys = int( 2 ** stage )\n",
    "        start = 0\n",
    "        for block in range(blocks):\n",
    "            for butterfly in range(butterflys):\n",
    "                values[start + butterfly], values[start + butterfly + (2 ** stage)] = calculateButterFly(values[start + butterfly], values[start + butterfly + (2 ** stage)], butterfly, (2 ** (stage + 1)))\n",
    "            start += int(N / blocks)\n",
    "    return(values)            "
   ]
  },
  {
   "cell_type": "code",
   "execution_count": 5,
   "metadata": {},
   "outputs": [],
   "source": [
    "### Main IFFT Code\n",
    "\n",
    "def ifft(x):\n",
    "    N = np.size(x)\n",
    "    stages = int(np.log(N) / np.log(2))\n",
    "    values = bitreverser(np.array(x, dtype='complex'))\n",
    "    for stage in range(stages):\n",
    "        blocks = int( N / ( 2 ** (stage + 1) ) )\n",
    "        butterflys = int( 2 ** stage )\n",
    "        start = 0\n",
    "        for block in range(blocks):\n",
    "            for butterfly in range(butterflys):\n",
    "                values[start + butterfly], values[start + butterfly + (2 ** stage)] = calculateButterFly_inv(values[start + butterfly], values[start + butterfly + (2 ** stage)], butterfly, (2 ** (stage + 1)))\n",
    "            start += int(N / blocks)\n",
    "    return((1 / N) * values)            "
   ]
  },
  {
   "cell_type": "code",
   "execution_count": 6,
   "metadata": {},
   "outputs": [],
   "source": [
    "### Testing it out\n",
    "\n",
    "x = np.array([0., 0., 1., 0., 0., 0., 0., 0.])\n",
    "y_test = np.round(fft(x))\n",
    "y_actual = np.fft.fft(x)"
   ]
  },
  {
   "cell_type": "code",
   "execution_count": 7,
   "metadata": {},
   "outputs": [
    {
     "data": {
      "text/plain": [
       "True"
      ]
     },
     "execution_count": 7,
     "metadata": {},
     "output_type": "execute_result"
    }
   ],
   "source": [
    "np.allclose(y_test, y_actual)"
   ]
  },
  {
   "cell_type": "code",
   "execution_count": 8,
   "metadata": {},
   "outputs": [
    {
     "data": {
      "text/plain": [
       "array([0.+0.j, 0.+0.j, 1.-0.j, 0.+0.j, 0.+0.j, 0.+0.j, 0.+0.j, 0.+0.j])"
      ]
     },
     "execution_count": 8,
     "metadata": {},
     "output_type": "execute_result"
    }
   ],
   "source": [
    "np.round(ifft(y_test))"
   ]
  }
 ],
 "metadata": {
  "kernelspec": {
   "display_name": "Python 3",
   "language": "python",
   "name": "python3"
  },
  "language_info": {
   "codemirror_mode": {
    "name": "ipython",
    "version": 3
   },
   "file_extension": ".py",
   "mimetype": "text/x-python",
   "name": "python",
   "nbconvert_exporter": "python",
   "pygments_lexer": "ipython3",
   "version": "3.7.4"
  }
 },
 "nbformat": 4,
 "nbformat_minor": 2
}
