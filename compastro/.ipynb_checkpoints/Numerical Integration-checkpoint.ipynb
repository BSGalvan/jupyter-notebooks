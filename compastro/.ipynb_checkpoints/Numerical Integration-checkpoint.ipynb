{
 "cells": [
  {
   "cell_type": "code",
   "execution_count": null,
   "metadata": {},
   "outputs": [],
   "source": [
    "### Imports and Auxiliary Functions\n",
    "import numpy as np\n",
    "import matplotlib.pyplot as plt\n",
    "\n",
    "%matplotlib nbagg\n",
    "\n",
    "def f(x):\n",
    "    return(np.power(x, x))"
   ]
  },
  {
   "cell_type": "code",
   "execution_count": null,
   "metadata": {},
   "outputs": [],
   "source": [
    "### Midpoint Rule Function    \n",
    "def midpoint(a, b, n): # function to calculate integral between (a, b)\n",
    "                       # using Composite Midpoint rule with n points\n",
    "                       # in between a and b\n",
    "    points, h = np.linspace(a, b, n, retstep=True)\n",
    "    midpoints = 0.5 * ( points + (points + h) )[0:-1]\n",
    "    value = np.sum(f(midpoints) * h)\n",
    "    return value"
   ]
  },
  {
   "cell_type": "code",
   "execution_count": 83,
   "metadata": {},
   "outputs": [],
   "source": [
    "### Trapezoidal Rule Function\n",
    "def trapezoidal(a, b, n): # function to calculate integral between (a, b)\n",
    "                          # using Composite Trapezoidal rule with n points\n",
    "                          # in between a and b\n",
    "    points, h = np.linspace(a, b, n, retstep=True)\n",
    "    value = h * ( 0.5 * ( f(points[0]) + f(points[-1]) ) + np.sum( f(points[1:-2]) ) )\n",
    "    return value"
   ]
  },
  {
   "cell_type": "code",
   "execution_count": null,
   "metadata": {},
   "outputs": [],
   "source": [
    "### Simpson's Rule Function\n",
    "def simpsons13(a, b, n): # function to calculate integral between (a, b)\n",
    "                         # using Simpson's one-third Rule with n points\n",
    "                         # in between a and b\n",
    "    points, h = np.linspace(a, b, n, retstep=True)\n",
    "    value = h/3 * ( f(points[0]) + f(points[-1]) + 4 * np.sum( f(points[1:n-3]) ) + 2 * np.sum( f(points)) )"
   ]
  },
  {
   "cell_type": "code",
   "execution_count": 98,
   "metadata": {},
   "outputs": [
    {
     "data": {
      "text/plain": [
       "array([-4.99996835e-06,  7.83425511e-01])"
      ]
     },
     "execution_count": 98,
     "metadata": {},
     "output_type": "execute_result"
    }
   ],
   "source": [
    "trapezoidal(0, 1, 200000) - quad(f, 0, 1)"
   ]
  }
 ],
 "metadata": {
  "kernelspec": {
   "display_name": "Python 3",
   "language": "python",
   "name": "python3"
  },
  "language_info": {
   "codemirror_mode": {
    "name": "ipython",
    "version": 3
   },
   "file_extension": ".py",
   "mimetype": "text/x-python",
   "name": "python",
   "nbconvert_exporter": "python",
   "pygments_lexer": "ipython3",
   "version": "3.7.3"
  }
 },
 "nbformat": 4,
 "nbformat_minor": 2
}
