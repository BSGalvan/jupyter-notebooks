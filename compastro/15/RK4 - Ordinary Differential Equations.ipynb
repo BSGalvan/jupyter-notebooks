{
 "cells": [
  {
   "cell_type": "code",
   "execution_count": 26,
   "metadata": {},
   "outputs": [],
   "source": [
    "### Imports and Auxiliary Functions\n",
    "import numpy as np\n",
    "import matplotlib.pyplot as plt\n",
    "\n",
    "def f(x, y):\n",
    "    return y\n",
    "\n",
    "def RK4(init_conditions, h, N):\n",
    "    x = np.zeros(N)\n",
    "    y = np.zeros(N)\n",
    "    x[0] = init_conditions[0]\n",
    "    y[0] = init_conditions[1]\n",
    "    for i in range(N - 1):        \n",
    "        f_0 = f(x[i], y[i])\n",
    "        f_1 = f(x[i] + h / 2, y[i] + (h / 2) * f_0)\n",
    "        f_2 = f(x[i] + h / 2, y[i] + (h / 2) * f_1)\n",
    "        f_3 = f(x[i] + h, y[i] + h * f_2)\n",
    "        y[i + 1] = y[i] + ( h / 6 ) * (f_0 + 2 * f_1 + 2 * f_2 + f_3)\n",
    "        x[i + 1] = x[i] + h\n",
    "    return(x, y)"
   ]
  },
  {
   "cell_type": "code",
   "execution_count": 27,
   "metadata": {},
   "outputs": [],
   "source": [
    "t, solns = RK4([0., 1.], 0.1, 20)"
   ]
  },
  {
   "cell_type": "code",
   "execution_count": 28,
   "metadata": {},
   "outputs": [
    {
     "data": {
      "text/plain": [
       "[<matplotlib.lines.Line2D at 0x118e4b290>]"
      ]
     },
     "execution_count": 28,
     "metadata": {},
     "output_type": "execute_result"
    },
    {
     "data": {
      "image/png": "[encoded data removed]",
      "text/plain": [
       "<Figure size 432x288 with 1 Axes>"
      ]
     },
     "metadata": {
      "needs_background": "light"
     },
     "output_type": "display_data"
    }
   ],
   "source": [
    "plt.plot(t, solns, 'ro-')\n",
    "plt.plot(t, np.exp(t))"
   ]
  }
 ],
 "metadata": {
  "kernelspec": {
   "display_name": "Python 3",
   "language": "python",
   "name": "python3"
  },
  "language_info": {
   "codemirror_mode": {
    "name": "ipython",
    "version": 3
   },
   "file_extension": ".py",
   "mimetype": "text/x-python",
   "name": "python",
   "nbconvert_exporter": "python",
   "pygments_lexer": "ipython3",
   "version": "3.7.4"
  }
 },
 "nbformat": 4,
 "nbformat_minor": 2
}
