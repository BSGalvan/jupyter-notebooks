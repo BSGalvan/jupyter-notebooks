{
 "cells": [
  {
   "cell_type": "code",
   "execution_count": 1,
   "metadata": {},
   "outputs": [],
   "source": [
    "### Imports and Auxiliary Functions\n",
    "import numpy as np\n",
    "from scipy.integrate import quad\n",
    "from math import floor\n",
    "\n",
    "def f(x):\n",
    "    return(np.power(x, x))"
   ]
  },
  {
   "cell_type": "code",
   "execution_count": 77,
   "metadata": {},
   "outputs": [],
   "source": [
    "### Midpoint Rule Function    \n",
    "def midpoint(points, h, func_values=None): # function to calculate integral between (a, b)\n",
    "                         # using Composite Midpoint rule with n points\n",
    "                         # in between a and b\n",
    "    if(func_values is None):\n",
    "        midpoints = 0.5 * ( points + (points + h) )[0:-1]\n",
    "        value = np.sum(f(midpoints) * h)\n",
    "    else:\n",
    "        midpoint_vals = 0.5 * (func_values[0:-1] + func_values[1:])\n",
    "        value = np.sum(midpoint_vals  * h)\n",
    "    return value"
   ]
  },
  {
   "cell_type": "code",
   "execution_count": 78,
   "metadata": {},
   "outputs": [],
   "source": [
    "### Trapezoidal Rule Function\n",
    "def trapezoidal(points, h, func_values=None): # function to calculate integral between (a, b)\n",
    "                            # using Composite Trapezoidal rule with n points\n",
    "                            # in between a and b\n",
    "    if(func_values is None):\n",
    "        value = h * ( 0.5 * ( f(points[0]) + f(points[-1]) ) + np.sum( f(points[1:-1]) ) )\n",
    "    else:\n",
    "        value = h * (0.5 * (func_values[0] + func_values[-1]) + np.sum(func_values[1:-1]))\n",
    "    return value"
   ]
  },
  {
   "cell_type": "code",
   "execution_count": 79,
   "metadata": {},
   "outputs": [],
   "source": [
    "### Simpson's 1/3 Rule Function\n",
    "def simpsons13(points, h, func_values=None): # function to calculate integral between (a, b)\n",
    "                         # using Simpson's one-third Rule with n points\n",
    "                         # in between a and b. Note that n-1 must be even.\n",
    "    if(func_values is None):\n",
    "        value = h/3 * ( f(points[0]) + f(points[-1]) + 4 * np.sum( f(points[1:-1:2]) ) + 2 * np.sum( f(points[2:-1:2])) )\n",
    "    else:\n",
    "        value = h/3 * ( func_values[0] + func_values[-1] + 4 * np.sum( func_values[1:-1:2] ) + 2 * np.sum( func_values[2:-1:2] ) ) \n",
    "    return value"
   ]
  },
  {
   "cell_type": "code",
   "execution_count": 80,
   "metadata": {},
   "outputs": [],
   "source": [
    "### Simpson's 3/8 Rule Function\n",
    "def simpsons38(points, h, func_values=None): # function to calculate integral between (a, b)\n",
    "                         # using Simpson's three-eighths Rule with n points\n",
    "                         # in between a and b. Note that n - 1 is a multiple of 3.\n",
    "    if(func_values is None):\n",
    "        value = (3 * h / 8) * (f(points[0]) + f(points[-1]) + 3 * np.sum(f(points[1:-2:3]) + f(points[2:-1:3])) + 2 * np.sum(f(points[3:-3:3])))\n",
    "    else:\n",
    "        value = (3 * h / 8) * (func_values[0] + func_values[-1] + 3 * np.sum(func_values[1:-2:3] + func_values[2:-1:3]) + 2 * np.sum(func_values[3:-3:3]))\n",
    "    return value"
   ]
  },
  {
   "cell_type": "code",
   "execution_count": 53,
   "metadata": {},
   "outputs": [],
   "source": [
    "### Defining 100 points, and getting the spacing.\n",
    "points, h = np.linspace(0, 1, 103, retstep=True)"
   ]
  },
  {
   "cell_type": "code",
   "execution_count": 7,
   "metadata": {},
   "outputs": [],
   "source": [
    "def iter_count(a, start, cmd):\n",
    "    n = start\n",
    "    if(cmd == 'm'):\n",
    "        n = n+1\n",
    "        x, h = np.linspace(0, 1, n, retstep=True)\n",
    "        a_new = midpoint(x, h)\n",
    "        while(np.abs(a - a_new) >= 1e-6):\n",
    "            a = a_new\n",
    "            n = n+1\n",
    "            x, h = np.linspace(0, 1, n, retstep=True)\n",
    "            a_new = midpoint(x, h)\n",
    "    elif(cmd == 't'):\n",
    "        n = n+1\n",
    "        x, h = np.linspace(0, 1, n, retstep=True)\n",
    "        a_new = trapezoidal(x, h)\n",
    "        while(np.abs(a - a_new) >= 1e-6):\n",
    "            a = a_new\n",
    "            n += 1\n",
    "            x, h = np.linspace(0, 1, n, retstep=True)\n",
    "            a_new = trapezoidal(x, h)\n",
    "    elif(cmd == 's13'):\n",
    "        n = n+2\n",
    "        x, h = np.linspace(0, 1, n, retstep=True)\n",
    "        a_new = simpsons13(x, h)\n",
    "        while(np.abs(a - a_new) >= 1e-6):\n",
    "            a = a_new\n",
    "            n = n+2\n",
    "            x, h = np.linspace(0, 1, n, retstep=True)\n",
    "            a_new = simpsons13(x, h)\n",
    "    elif(cmd == 's38'):\n",
    "        n = n+3\n",
    "        x, h = np.linspace(0, 1, n, retstep=True)\n",
    "        a_new = simpsons38(x, h)\n",
    "        while(np.abs(a - a_new) >= 1e-6):\n",
    "            a = a_new\n",
    "            n = n + 3\n",
    "            x, h = np.linspace(0, 1, n, retstep=True)\n",
    "            a_new = simpsons38(x, h)\n",
    "    else:\n",
    "        print('Invalid option!')\n",
    "    return(n)"
   ]
  },
  {
   "cell_type": "code",
   "execution_count": 48,
   "metadata": {},
   "outputs": [
    {
     "name": "stdout",
     "output_type": "stream",
     "text": [
      "Answer using the Midpoint rule: 0.7833934958675832\n",
      "Answer using the Trapezoidal rule: 0.7835122855389656\n",
      "Answer using Simpson's 1/3 rule: 0.7796315480838256\n",
      "Answer using Simpson's 3/8 rule: 0.7834445308770291\n"
     ]
    }
   ],
   "source": [
    "print(\"Answer using the Midpoint rule: \" + str(midpoint(points, h)))\n",
    "print(\"Answer using the Trapezoidal rule: \" + str(trapezoidal(points, h)))\n",
    "print(\"Answer using Simpson's 1/3 rule: \" + str(simpsons13(points, h)))\n",
    "print(\"Answer using Simpson's 3/8 rule: \" + str(simpsons38(points, h)))"
   ]
  },
  {
   "cell_type": "code",
   "execution_count": 54,
   "metadata": {},
   "outputs": [
    {
     "name": "stdout",
     "output_type": "stream",
     "text": [
      "81\n",
      "107\n",
      "69\n",
      "88\n"
     ]
    }
   ],
   "source": [
    "print(iter_count(midpoint(points, h), 10, 'm') - 1)\n",
    "print(iter_count(trapezoidal(points, h), 10, 't')-1)\n",
    "print(iter_count(simpsons13(points, h), 13 , 's13') - 2)\n",
    "print(iter_count(simpsons38(points, h), 13, 's38') - 3)"
   ]
  },
  {
   "cell_type": "markdown",
   "metadata": {},
   "source": [
    "---"
   ]
  },
  {
   "cell_type": "code",
   "execution_count": 10,
   "metadata": {},
   "outputs": [],
   "source": [
    "### Load the data\n",
    "x, fx = np.loadtxt('data-lab5.txt', skiprows=1, unpack=True)\n",
    "spacing = x[1] - x[0]\n",
    "twopoints, h_twopoints = (np.array([x[0], x[-1]]), x[-1] - x[0])\n",
    "fivepoints, h_fivepoints = (np.array(x[0::2]), x[2] - x[0])\n",
    "sevenpoints, h_sevenpoints = (x[0:7], spacing)\n",
    "fourpoints, h_fourpoints = (x[7:], spacing)"
   ]
  },
  {
   "cell_type": "code",
   "execution_count": 58,
   "metadata": {},
   "outputs": [
    {
     "data": {
      "text/plain": [
       "array([0. , 0.1, 0.2, 0.3, 0.4, 0.5, 0.6, 0.7, 0.8, 0.9, 1. ])"
      ]
     },
     "execution_count": 58,
     "metadata": {},
     "output_type": "execute_result"
    }
   ],
   "source": [
    "x"
   ]
  },
  {
   "cell_type": "code",
   "execution_count": 63,
   "metadata": {},
   "outputs": [],
   "source": [
    "test = np.array([fx[0], fx[-1]])"
   ]
  },
  {
   "cell_type": "code",
   "execution_count": 76,
   "metadata": {},
   "outputs": [
    {
     "data": {
      "text/plain": [
       "0.5"
      ]
     },
     "execution_count": 76,
     "metadata": {},
     "output_type": "execute_result"
    }
   ],
   "source": [
    "h_twopoints * (0.5 * (test[0] + test[-1]) + np.sum(test[1:-1]))"
   ]
  },
  {
   "cell_type": "code",
   "execution_count": 81,
   "metadata": {
    "scrolled": true
   },
   "outputs": [
    {
     "name": "stdout",
     "output_type": "stream",
     "text": [
      "Answer using the Midpoint rule: 0.5\n",
      "Answer using the Trapezoidal rule: 0.5\n"
     ]
    }
   ],
   "source": [
    "### Answers using Various routines, as applicable, for two points taken\n",
    "print(\"Answer using the Midpoint rule: \" + str(midpoint(twopoints, h_twopoints, np.array([fx[0], fx[-1]]))))\n",
    "print(\"Answer using the Trapezoidal rule: \" + str(trapezoidal(twopoints, h_twopoints, np.array([fx[0], fx[-1]]))))\n",
    "#print(\"Answer using Simpson's 1/3 rule: \" + str(simpsons13(twopoints, h_twopoints)))\n",
    "#print(\"Answer using Simpson's 3/8 rule: \" + str(simpsons38(twopoints, h_twopoints)))"
   ]
  },
  {
   "cell_type": "code",
   "execution_count": 82,
   "metadata": {},
   "outputs": [
    {
     "name": "stdout",
     "output_type": "stream",
     "text": [
      "Answer using the Midpoint rule: 0.6497400000000001\n",
      "Answer using the Trapezoidal rule: 0.64974\n",
      "Answer using Simpson's 1/3 rule: 0.5960666666666666\n"
     ]
    }
   ],
   "source": [
    "### Answers using Various routines for five points taken\n",
    "print(\"Answer using the Midpoint rule: \" + str(midpoint(fivepoints, h_fivepoints, fx[0::2])))\n",
    "print(\"Answer using the Trapezoidal rule: \" + str(trapezoidal(fivepoints, h_fivepoints, fx[0::2])))\n",
    "print(\"Answer using Simpson's 1/3 rule: \" + str(simpsons13(fivepoints, h_fivepoints, fx[0::2])))\n",
    "#print(\"Answer using Simpson's 3/8 rule: \" + str(simpsons38(fivepoints, h_fivepoints)))"
   ]
  },
  {
   "cell_type": "code",
   "execution_count": 86,
   "metadata": {},
   "outputs": [
    {
     "name": "stdout",
     "output_type": "stream",
     "text": [
      "Answer using the Midpoint rule: 0.66051\n",
      "Answer using the Trapezoidal rule: 0.6605099999999999\n"
     ]
    }
   ],
   "source": [
    "### Answers using Various routines for all points taken\n",
    "print(\"Answer using the Midpoint rule: \" + str(midpoint(x, spacing, fx)))\n",
    "print(\"Answer using the Trapezoidal rule: \" + str(trapezoidal(x, spacing, fx)))"
   ]
  },
  {
   "cell_type": "code",
   "execution_count": 88,
   "metadata": {},
   "outputs": [
    {
     "name": "stdout",
     "output_type": "stream",
     "text": [
      "Answer using Simpsons13 for the first 7, and Simpsons38 for the rest 4: 0.5834916666666666\n"
     ]
    }
   ],
   "source": [
    "print(\"Answer using Simpsons13 for the first 7, and Simpsons38 for the rest 4: \" + str(simpsons13(sevenpoints, h_sevenpoints, fx[0:7]) + simpsons38(fourpoints, h_fourpoints, fx[7:]))) "
   ]
  }
 ],
 "metadata": {
  "kernelspec": {
   "display_name": "Python 3",
   "language": "python",
   "name": "python3"
  },
  "language_info": {
   "codemirror_mode": {
    "name": "ipython",
    "version": 3
   },
   "file_extension": ".py",
   "mimetype": "text/x-python",
   "name": "python",
   "nbconvert_exporter": "python",
   "pygments_lexer": "ipython3",
   "version": "3.7.4"
  }
 },
 "nbformat": 4,
 "nbformat_minor": 2
}
