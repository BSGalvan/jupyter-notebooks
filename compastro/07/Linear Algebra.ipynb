{
 "cells": [
  {
   "cell_type": "markdown",
   "metadata": {},
   "source": [
    "Suppose we need to solve $\\mathbf{A}\\vec{x} = \\vec{b}$, where $\\mathbf{A}$ is m rows long and n columns wide. We consider only the case where $m=n$ (exactly determined). Ideally, $\\vec{x} = \\mathbf{A}^{-1} \\vec{b}$, which involves calculating the determinant of $\\mathbf{A}$ and then calculating the inverse (assuming $\\mathbf{A}$ is non-singular). But that can quickly become complicated as the number of elements increases.\n",
    "\n",
    "What all can we do with the matrix $\\mathbf{A}$?\n",
    "\n",
    "- We can swap the rows. This is just relabling the equations.\n",
    "- We can swap the columns. This is just relabling the variables.\n",
    "- We can form a linear combination of the equations without changing the system.\n",
    "\n",
    "Warning : with a computer, precision can affect the singularity of a matrix!\n",
    "\n",
    "# Gaussian Elimination\n",
    "The steps to follow here are that:\n",
    "\n",
    "- Subtract the first equation from the rest, appropriately scaled, such that the first variable is eliminated from all equations but the first.\n",
    "- Now, subtract the second equation from the rest (*except first*), appropriately scaled, such that the second variable is eliminated from all equations but the second (and first).\n",
    "- Keep doing this with the rest of the variables, keeping the overall process same.\n",
    "- Finally, after all previous steps are finished, the last equation has all leading coefficients as zero except that for the last variable (essentially, an upper triangular matrix). Then, the value of this variable is back-substituted into the last but one equation to get the last but one variable's value. This way, all variables' values are obtained.\n",
    "\n",
    "### Algorithm :\n",
    "\n",
    "1. Identify the pivot $a_{11}$. Reduce elements of the first column (except $a_{11}$) to zero.\n",
    "    - To do that, get multiplicative factors $l_{i1}$ for the ith row with respect to the 1st row $\\Rightarrow l_{21} = \\dfrac{a_{21}}{a_{11}} \\cdots$\n",
    "    - Do $a_{2j} \\rightarrow a_{2j} - a_{1j} \\cdot l_{21}, \\hspace{0.5em} b_2 \\rightarrow b_2 - b_1 \\cdot l_{21}$. Repeat for all rows below.\n",
    "    \n",
    "2. Identify the new pivot $a_{22}$. Then,\n",
    "    - Get $l_{i2} \\hspace{0.5em}(i > 2)$. \n",
    "    - Do $a_{3j} \\rightarrow a_{3j} - a_{2j} \\cdot l_{2j}, \\hspace{0.5em} b_2 \\rightarrow b_2 - b_1 \\cdot l_{21}$. Repeat for all rows below."
   ]
  },
  {
   "cell_type": "code",
   "execution_count": 2,
   "metadata": {},
   "outputs": [],
   "source": [
    "import numpy as np"
   ]
  },
  {
   "cell_type": "code",
   "execution_count": 3,
   "metadata": {},
   "outputs": [],
   "source": [
    "def gaussian_eliminate(A, b):\n",
    "    rows = np.shape(A)[0]\n",
    "    columns = np.shape(A)[1]\n",
    "    B = np.copy(A)\n",
    "    c = np.copy(b)\n",
    "    \n",
    "    if(B[0][0] == 0):\n",
    "        temp = B[0][:]\n",
    "        B[0][:] = B[1][:]\n",
    "        B[1][:] = temp\n",
    "        temp = c[0]\n",
    "        c[0] = c[1]\n",
    "        c[1] = temp\n",
    "        \n",
    "    for i in range(rows):\n",
    "        for j in range(i+1, rows):\n",
    "            multfactor = B[j][i] / B[i][i]\n",
    "            B[j][:] = B[j][:] - multfactor * B[i][:]\n",
    "            c[j] = c[j] - multfactor * c[i]\n",
    "            \n",
    "    outputs = np.zeros(columns)\n",
    "    \n",
    "    for i in range(rows-1, -1, -1):\n",
    "        summation = 0\n",
    "        for j in range(columns-1, i, -1):\n",
    "            summation += B[i][j] * outputs[j]\n",
    "        answer = (c[i] - summation) / B[i][i]\n",
    "        outputs[i] = answer\n",
    "        \n",
    "    return(outputs)"
   ]
  },
  {
   "cell_type": "code",
   "execution_count": 4,
   "metadata": {},
   "outputs": [
    {
     "name": "stdout",
     "output_type": "stream",
     "text": [
      "[ 0.65 -0.2  -0.35]\n"
     ]
    }
   ],
   "source": [
    "A = np.array([[3, 1, 5], [3, 3, 1], [4, 6, 4]], dtype=float)\n",
    "b = np.array([[0., 1., 0.]], dtype=float).T\n",
    "answer = gaussian_eliminate(A, b)\n",
    "print(answer)\n"
   ]
  },
  {
   "cell_type": "markdown",
   "metadata": {},
   "source": [
    "### LU Decomposition\n",
    "When one has to solve a set of equations repeatedly, with only the coefficient vector changing, instead of Gaussian Elimination, LU Decomposition proves more efficient. Here, the original matrix is decomposed into the product of a lower triangular matrix L and an upper triangular matrix U. In the algorithm we perform, we set the diagonal elements of the lower triangular matrix to be unity. In this case:\n",
    "- Set the non-unity, lower triangular matrix elements to be the respective multiplicative factors.\n",
    "- The upper triangular matrix elements will be the upper triangular matrix you get at the penultimate step of Gaussian Elimination, before back substitution.\n",
    "Now, we went from $\\mathbf{A}\\vec{x} = \\vec{b}$ to $\\mathbf{LU}\\vec{x} = \\vec{b}$. To solve for x, we write this as two equations : $$\\mathbf{L}\\vec{y} = \\vec{b}; \\quad \\mathbf{U}\\vec{x} = \\vec{y}$$\n",
    "Solving these two (both by back-substitution), we can get the solution for x."
   ]
  },
  {
   "cell_type": "code",
   "execution_count": null,
   "metadata": {},
   "outputs": [],
   "source": []
  }
 ],
 "metadata": {
  "kernelspec": {
   "display_name": "Python 3",
   "language": "python",
   "name": "python3"
  },
  "language_info": {
   "codemirror_mode": {
    "name": "ipython",
    "version": 3
   },
   "file_extension": ".py",
   "mimetype": "text/x-python",
   "name": "python",
   "nbconvert_exporter": "python",
   "pygments_lexer": "ipython3",
   "version": "3.7.4"
  }
 },
 "nbformat": 4,
 "nbformat_minor": 2
}
