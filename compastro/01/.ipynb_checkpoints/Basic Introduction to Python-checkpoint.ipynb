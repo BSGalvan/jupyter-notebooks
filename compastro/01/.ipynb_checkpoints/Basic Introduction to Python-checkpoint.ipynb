{
 "cells": [
  {
   "cell_type": "code",
   "execution_count": 7,
   "metadata": {},
   "outputs": [
    {
     "name": "stdout",
     "output_type": "stream",
     "text": [
      "Enter 5 numbers (separated by spaces) : 12 44 32 46 84\n",
      "The mean of the numbers entered: 43.6\n"
     ]
    }
   ],
   "source": [
    "# Question 1 : Write a program to accept 5 numbers and print their mean.\n",
    "numstring = input('Enter 5 numbers (separated by spaces): ') # input the numbers\n",
    "numlist = numstring.split(' ') # split the string, delimited by spaces\n",
    "numlist = [float(numlist[i]) for i in range(len(numlist))] # convert to floats\n",
    "mean = 0.\n",
    "for i in range(len(numlist)):\n",
    "\tmean += numlist[i] # accumulate\n",
    "mean = mean/(len(numlist)) # divide by number of elements\n",
    "print(\"The mean of the numbers entered: \"+ str(mean))"
   ]
  },
  {
   "cell_type": "code",
   "execution_count": 8,
   "metadata": {},
   "outputs": [
    {
     "name": "stdout",
     "output_type": "stream",
     "text": [
      "Enter the number to find: 4\n",
      "Yes, found it!\n"
     ]
    }
   ],
   "source": [
    "# Question 2 : Checking if a user-input number is in a list.\n",
    "a = range(1, 6)\n",
    "b = input('Enter the number to find: ')\n",
    "if int(b) in a:\n",
    "\tprint('Yes, found it!')\n",
    "else:\n",
    "\tprint('Sorry, could not find that.')"
   ]
  },
  {
   "cell_type": "code",
   "execution_count": 11,
   "metadata": {},
   "outputs": [
    {
     "name": "stdout",
     "output_type": "stream",
     "text": [
      "[1, 4, 9, 16, 25, 36, 49, 64, 81, 100]\n"
     ]
    }
   ],
   "source": [
    "# Question 3 : Read numbers from text file and print square of those numbers.\n",
    "f = open('numbers.dat','r') # create a file object\n",
    "a = f.read().split('\\n') # read everything, and split with delimiter = \\n\n",
    "a = a[0:len(a)-1] # ignore the '' at the end\n",
    "b = [int(x)**2 for x in a] # list-comprehension to square\n",
    "print(b)"
   ]
  },
  {
   "cell_type": "code",
   "execution_count": 12,
   "metadata": {},
   "outputs": [
    {
     "name": "stdout",
     "output_type": "stream",
     "text": [
      "Enter a name: bharath\n",
      "BHARATH\n"
     ]
    }
   ],
   "source": [
    "# Question 4 : Read name from user, and print all-caps version of it\n",
    "name = input(\"Enter a name: \")\n",
    "print(name.upper())"
   ]
  },
  {
   "cell_type": "code",
   "execution_count": 15,
   "metadata": {},
   "outputs": [
    {
     "name": "stdout",
     "output_type": "stream",
     "text": [
      "Enter the number of random numbers: 100\n",
      "[37, 45, 30, 43, 33, 20, 26, 9, 65, 46, 31, 100, 52, 16, 27, 74, 94, 74, 48, 57, 30, 98, 67, 52, 9, 20, 7, 11, 88, 39, 46, 90, 85, 7, 17, 17, 91, 98, 82, 100, 19, 30, 97, 7, 48, 38, 8, 85, 85, 56, 40, 95, 54, 9, 97, 53, 23, 44, 66, 66, 33, 27, 37, 10, 37, 90, 50, 61, 7, 73, 24, 52, 66, 3, 68, 74, 9, 38, 89, 41, 30, 78, 95, 10, 7, 25, 55, 39, 12, 7, 40, 36, 12, 86, 0, 90, 30, 58, 88, 96]\n"
     ]
    }
   ],
   "source": [
    "# Question 5 : Generating N random integers, where N is user-input.\n",
    "from random import randint\n",
    "\n",
    "num = int( input('Enter the number of random numbers: ') )\n",
    "randarr = [randint(0, 100) for i in range(num)] # generate num random numbers in [0,100)\n",
    "print(randarr)"
   ]
  },
  {
   "cell_type": "code",
   "execution_count": 17,
   "metadata": {},
   "outputs": [
    {
     "name": "stdout",
     "output_type": "stream",
     "text": [
      "It is a palindrome!\n"
     ]
    }
   ],
   "source": [
    "# Question 6 : WAP that recognizes palindromes.\n",
    "def is_palindrome(var):\n",
    "    rev = var[::-1] # pythonic reversing. From start to end, but with negative steps\n",
    "    if(rev == var):\n",
    "        print('It is a palindrome!')\n",
    "    else:\n",
    "        print('Not a palindrome.')\n",
    "\n",
    "test = 'racecar'\n",
    "is_palindrome(test)"
   ]
  },
  {
   "cell_type": "code",
   "execution_count": 20,
   "metadata": {},
   "outputs": [
    {
     "name": "stdout",
     "output_type": "stream",
     "text": [
      "Enter a sentence. Make it as long as you want! :Seeing a specific word used in a sentence can provide more context and help you better understand proper usage. Find sentence examples at Your Dictionary.\n",
      "Seeing\n",
      "a\n",
      "specific\n",
      "word\n",
      "used\n",
      "in\n",
      "a\n",
      "sentence\n",
      "can\n",
      "provide\n",
      "more\n",
      "context\n",
      "and\n",
      "help\n",
      "you\n",
      "better\n",
      "understand\n",
      "proper\n",
      "usage.\n",
      "Find\n",
      "sentence\n",
      "examples\n",
      "at\n",
      "Your\n",
      "Dictionary.\n"
     ]
    }
   ],
   "source": [
    "# Question 7 : Read a sentence from the user, split it into words, and print each on\n",
    "# a separate line.\n",
    "sentence = input('Enter a sentence. Make it as long as you want! :')\n",
    "words = sentence.split(' ')\n",
    "for i in range(len(words)):\n",
    "    print(words[i])"
   ]
  },
  {
   "cell_type": "code",
   "execution_count": 21,
   "metadata": {},
   "outputs": [
    {
     "name": "stdout",
     "output_type": "stream",
     "text": [
      "Name\n",
      "Asif\n",
      "Bharath\n",
      "Chinmai\n",
      "Tatsat\n",
      "Jayant\n"
     ]
    }
   ],
   "source": [
    "# Question 8 : Read line by line from a multicolumn text file, split them into list\n",
    "# and print only first word of each line.\n",
    "with open('students.txt','r') as f:\n",
    "    a = f.readlines()\n",
    "    b = [a[i].rstrip().split('\\t') for i in range(len(a))]\n",
    "    firsts = [b[i][0] for i in range(len(b))]\n",
    "\n",
    "for i in firsts:\n",
    "    print(i)"
   ]
  },
  {
   "cell_type": "code",
   "execution_count": 40,
   "metadata": {},
   "outputs": [],
   "source": [
    "# Question 9 : Read line by line from a multicolumn text file, split them into list\n",
    "# and write into a text file.\n",
    "with open('students.txt','r') as f:\n",
    "    contents = f.read()\n",
    "    contents = contents.split('\\n')\n",
    "\n",
    "g = open('students_write.txt','w')\n",
    "for i in range(len(contents)):\n",
    "    g.write(contents[i])\n",
    "    g.write('\\n')\n",
    "g.close()"
   ]
  }
 ],
 "metadata": {
  "kernelspec": {
   "display_name": "Python 3",
   "language": "python",
   "name": "python3"
  },
  "language_info": {
   "codemirror_mode": {
    "name": "ipython",
    "version": 3
   },
   "file_extension": ".py",
   "mimetype": "text/x-python",
   "name": "python",
   "nbconvert_exporter": "python",
   "pygments_lexer": "ipython3",
   "version": "3.7.3"
  }
 },
 "nbformat": 4,
 "nbformat_minor": 2
}
