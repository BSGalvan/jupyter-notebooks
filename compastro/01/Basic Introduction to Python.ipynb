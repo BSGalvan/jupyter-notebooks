{
 "cells": [
  {
   "cell_type": "markdown",
   "metadata": {},
   "source": [
    "# Styling the CSS"
   ]
  },
  {
   "cell_type": "code",
   "execution_count": 3,
   "metadata": {},
   "outputs": [
    {
     "data": {
      "text/html": [
       "<link href='http://fonts.googleapis.com/css?family=Alegreya+Sans:100,300,400,500,700,800,900,100italic,300italic,400italic,500italic,700italic,800italic,900italic' rel='stylesheet' type='text/css'>\n",
       "<link href='http://fonts.googleapis.com/css?family=Arvo:400,700,400italic' rel='stylesheet' type='text/css'>\n",
       "<link href='http://fonts.googleapis.com/css?family=PT+Mono' rel='stylesheet' type='text/css'>\n",
       "<link href='http://fonts.googleapis.com/css?family=Shadows+Into+Light' rel='stylesheet' type='text/css'>\n",
       "<link href='http://fonts.googleapis.com/css?family=Philosopher:400,700,400italic,700italic' rel='stylesheet' type='text/css'>\n",
       "\n",
       "<style>\n",
       "\n",
       "@font-face {\n",
       "    font-family: \"Computer Modern\";\n",
       "    src: url('http://mirrors.ctan.org/fonts/cm-unicode/fonts/otf/cmunss.otf');\n",
       "}\n",
       "\n",
       "#notebook_panel { /* main background */\n",
       "    background: #ddd;\n",
       "    color: #000000;\n",
       "}\n",
       "\n",
       "p {\n",
       "    font-size: 12pt;\n",
       "}\n",
       "\n",
       "/* Formatting for header cells */\n",
       ".text_cell_render h1 {\n",
       "    font-family: 'Philosopher', sans-serif;\n",
       "    font-weight: 400;\n",
       "    font-size: 2.2em;\n",
       "    line-height: 100%;\n",
       "    color: rgb(0, 80, 120);\n",
       "    margin-bottom: 0.1em;\n",
       "    margin-top: 0.1em;\n",
       "    display: block;\n",
       "}\n",
       ".text_cell_render h2 {\n",
       "    font-family: 'Philosopher', serif;\n",
       "    font-weight: 400;\n",
       "    font-size: 1.9em;\n",
       "    line-height: 100%;\n",
       "    color: rgb(200,100,0);\n",
       "    margin-bottom: 0.1em;\n",
       "    margin-top: 0.1em;\n",
       "    display: block;\n",
       "}\n",
       "\n",
       ".text_cell_render h3 {\n",
       "    font-family: 'Philosopher', serif;\n",
       "    margin-top:12px;\n",
       "    margin-bottom: 3px;\n",
       "    font-style: italic;\n",
       "    color: rgb(94,127,192);\n",
       "}\n",
       "\n",
       ".text_cell_render h4 {\n",
       "    font-family: 'Philosopher', serif;\n",
       "}\n",
       "\n",
       ".text_cell_render h5 {\n",
       "    font-family: 'Alegreya Sans', sans-serif;\n",
       "    font-weight: 300;\n",
       "    font-size: 16pt;\n",
       "    color: grey;\n",
       "    font-style: italic;\n",
       "    margin-bottom: .1em;\n",
       "    margin-top: 0.1em;\n",
       "    display: block;\n",
       "}\n",
       "\n",
       ".text_cell_render h6 {\n",
       "    font-family: 'PT Mono', sans-serif;\n",
       "    font-weight: 300;\n",
       "    font-size: 10pt;\n",
       "    color: grey;\n",
       "    margin-bottom: 1px;\n",
       "    margin-top: 1px;\n",
       "}\n",
       "\n",
       ".CodeMirror{\n",
       "        font-family: \"PT Mono\";\n",
       "        font-size: 100%;\n",
       "}\n",
       "\n",
       "</style>\n",
       "\n"
      ],
      "text/plain": [
       "<IPython.core.display.HTML object>"
      ]
     },
     "execution_count": 3,
     "metadata": {},
     "output_type": "execute_result"
    }
   ],
   "source": [
    "from IPython.core.display import HTML\n",
    "def css_styling():\n",
    "    styles = open(\"../style.css\", 'r').read()\n",
    "    return HTML(styles)\n",
    "css_styling()"
   ]
  },
  {
   "cell_type": "markdown",
   "metadata": {},
   "source": [
    "---"
   ]
  },
  {
   "cell_type": "markdown",
   "metadata": {},
   "source": [
    "# Basics in Python"
   ]
  },
  {
   "cell_type": "markdown",
   "metadata": {},
   "source": [
    "## Basic Data Structures - Lists\n",
    "In Python, arguably one of the most common data structures used is the `list()`. You can think of it as an array, holding a (preferably fixed) number of similar elements (although dissimilar elements are also allowed). For \n",
    "example, `foo = [1, 2, 3]` is a list of integers (or ints for short), whereas `bar = [1., 2., 3.]` is a list of floats.\n",
    "\n",
    "However, a list can have non-homogenous elements, as shown below:"
   ]
  },
  {
   "cell_type": "code",
   "execution_count": 4,
   "metadata": {},
   "outputs": [
    {
     "name": "stdout",
     "output_type": "stream",
     "text": [
      "a is [1.0, 2, 'bar']\n"
     ]
    },
    {
     "data": {
      "text/plain": [
       "list"
      ]
     },
     "execution_count": 4,
     "metadata": {},
     "output_type": "execute_result"
    }
   ],
   "source": [
    "a = [1., 2, 'bar']  # Still works!\n",
    "print(\"a is\", a)  # From Python 3.0 onwards, `print` requires parentheses!\n",
    "type(a)  # use this to check what a variable holds"
   ]
  },
  {
   "cell_type": "markdown",
   "metadata": {},
   "source": [
    "One can access the elements of a list by using indices, such that the first element of the list is `a[0]`, the second element is `a[1]` and so on. Curiously, `a[-1]` is the _last_ element of the list!"
   ]
  },
  {
   "cell_type": "code",
   "execution_count": 7,
   "metadata": {},
   "outputs": [
    {
     "name": "stdout",
     "output_type": "stream",
     "text": [
      "The first element of a is:  1.0\n",
      "The second element of a is:  2\n",
      "The last element of a is:  bar\n"
     ]
    }
   ],
   "source": [
    "print(\"The first element of a is: \", a[0])\n",
    "print(\"The second element of a is: \", a[1])\n",
    "print(\"The last element of a is: \", a[-1])"
   ]
  },
  {
   "cell_type": "markdown",
   "metadata": {},
   "source": [
    "Multiple list elements can be accessed at once too, using what is called _slicing_. This is best illustrated with examples:"
   ]
  },
  {
   "cell_type": "code",
   "execution_count": 12,
   "metadata": {},
   "outputs": [],
   "source": [
    "# First set up a list with multiple elements\n",
    "b = [1, 2, 'foo', 'bar', 5, 'baz', 10]"
   ]
  },
  {
   "cell_type": "code",
   "execution_count": 22,
   "metadata": {},
   "outputs": [
    {
     "name": "stdout",
     "output_type": "stream",
     "text": [
      "[2, 'foo']\n",
      "[1, 2, 'foo']\n",
      "[2, 'foo', 'bar', 5, 'baz', 10]\n",
      "[10, 'baz']\n"
     ]
    }
   ],
   "source": [
    "print(b[1:3])   # slice from index = 1 to index < 3\n",
    "print(b[:3])    # slice from index = 0 (default if unspecified) till index < 3\n",
    "print(b[1:])    # slice from index = 1 till end of the list\n",
    "print(b[-1:-3:-1])  # what does this do?"
   ]
  },
  {
   "cell_type": "markdown",
   "metadata": {},
   "source": [
    "The last slice uses the `list[start:stop:step]` construct, and so it slices from index=-1 (which is the last element of the last) to index<-3, in steps of -1, effectively traversing the list in reverse!"
   ]
  },
  {
   "cell_type": "code",
   "execution_count": 27,
   "metadata": {},
   "outputs": [],
   "source": [
    "# Small exercise: reverse a list!\n",
    "original = ['d', 'e', 's', 's', 'e', 'r', 't', 's']\n",
    "#reversed =   #uncomment and define b, such that it is the reversed version of original."
   ]
  },
  {
   "cell_type": "markdown",
   "metadata": {},
   "source": [
    "We will encounter [more on lists](https://docs.python.org/3/tutorial/introduction.html#lists) and [other exotic data structures](https://docs.python.org/3/tutorial/datastructures.html) as we go along, but for now this much should suffice for our purposes."
   ]
  },
  {
   "cell_type": "markdown",
   "metadata": {},
   "source": [
    "---"
   ]
  },
  {
   "cell_type": "markdown",
   "metadata": {},
   "source": [
    "## Basic Flow Control\n",
    "\n",
    "---\n",
    "\n",
    "### $\\texttt{if/else}$\n",
    "\n",
    "To execute code conditionally, we use the `if/else` construct. It looks like this:\n",
    "\n",
    "```{python}\n",
    "if minutes_worked > 25:\n",
    "    print(\"Take a break! Stretch your legs, rest your eyes...\")\n",
    "else:\n",
    "    print(\"Keep going, almost there!\")\n",
    "```\n",
    "\n",
    "One can even add in multiple conditions using the `else if` construct in between the `if` at the start and the `else` at the end, like so:\n",
    "\n",
    "```{python}\n",
    "# Program to recursively calculate factorial of a number\n",
    "if number == 0 || number == 1:\n",
    "    value = 1\n",
    "else if number < 0:\n",
    "    print(\"Can't work with negative numbers yet. Feature coming soon!\")\n",
    "else:\n",
    "    print(factorial(number))  # factorial(number) is a function; more on those soon.\n",
    "```\n",
    "\n",
    "### $\\texttt{for}$\n",
    "\n",
    "A loop is a piece of code which repeats certain actions again and again, for a given number of iterations. In Python, several kind of loops exist but we will focus on the `for`-loop, which looks generally like this:\n",
    "\n",
    "```{python}\n",
    "for var in iterator:\n",
    "    # Do something in the loop body...\n",
    "    # Note: the loop body is always indented with respect to the loop statement\n",
    "\n",
    "```\n",
    "\n",
    "The `iterator` in the loop statement is usually a `range()`, which returns a iterator, which is _sort of_ like a `list` containing values that `var` can take on."
   ]
  },
  {
   "cell_type": "code",
   "execution_count": 30,
   "metadata": {},
   "outputs": [
    {
     "name": "stdout",
     "output_type": "stream",
     "text": [
      ">> i is now: 0\n",
      ">> i is now: 1\n",
      ">> i is now: 2\n",
      ">> i is now: 3\n",
      ">> i is now: 4\n",
      ">> i is now: 5\n",
      ">> i is now: 6\n",
      ">> i is now: 7\n",
      ">> i is now: 8\n",
      ">> i is now: 9\n",
      "Loop Finished. i is now: 9\n"
     ]
    }
   ],
   "source": [
    "# For-loop example\n",
    "for i in range(10):\n",
    "    print(\">> i is now:\", i)\n",
    "print(\"Loop Finished. i is now:\", i)"
   ]
  },
  {
   "cell_type": "markdown",
   "metadata": {},
   "source": [
    "Notice how `i` retains the last value it took on inside the loop. This is a note of caution that you should make sure that your loop variables and non-loop variables are named uniquely, otherwise you will get _really_ hard-to-spot bugs where your program will run, just not the way you expect it to!"
   ]
  },
  {
   "cell_type": "markdown",
   "metadata": {},
   "source": [
    "#### List Comprehensions\n",
    "\n",
    "List comprehensions are a way to quickly and easily create large lists. One way to create a list of the integers from 1 to 100 is to manually write them all out. However, we are cleverer than that, so we use a `for` loop:\n",
    "\n",
    "```{python}\n",
    "numbers = []  # an empty list\n",
    "for i in range(1, 100):\n",
    "    numbers.append(i)  # append() is a function (technically a method) which lists 'have'\n",
    "                       # with which we can add elements to an existing list.\n",
    "print(numbers)\n",
    "```\n",
    "\n",
    "However, the really clever (and time-saving, in both the keystroke and CPU cycles sense) way is to do the following:"
   ]
  },
  {
   "cell_type": "code",
   "execution_count": 33,
   "metadata": {},
   "outputs": [
    {
     "name": "stdout",
     "output_type": "stream",
     "text": [
      "[0, 1, 2, 3, 4, 5, 6, 7, 8, 9, 10, 11, 12, 13, 14, 15, 16, 17, 18, 19, 20, 21, 22, 23, 24, 25, 26, 27, 28, 29, 30, 31, 32, 33, 34, 35, 36, 37, 38, 39, 40, 41, 42, 43, 44, 45, 46, 47, 48, 49, 50, 51, 52, 53, 54, 55, 56, 57, 58, 59, 60, 61, 62, 63, 64, 65, 66, 67, 68, 69, 70, 71, 72, 73, 74, 75, 76, 77, 78, 79, 80, 81, 82, 83, 84, 85, 86, 87, 88, 89, 90, 91, 92, 93, 94, 95, 96, 97, 98, 99]\n"
     ]
    }
   ],
   "source": [
    "# A list comprehension example\n",
    "numbers = [i for i in range(100)]\n",
    "print(numbers)"
   ]
  },
  {
   "cell_type": "markdown",
   "metadata": {},
   "source": [
    "Clearly the list comprehension is easier to type. Is it _fast_ though?"
   ]
  },
  {
   "cell_type": "code",
   "execution_count": 38,
   "metadata": {},
   "outputs": [
    {
     "name": "stdout",
     "output_type": "stream",
     "text": [
      "65.2 ms ± 849 µs per loop (mean ± std. dev. of 7 runs, 10 loops each)\n"
     ]
    }
   ],
   "source": [
    "%%timeit\n",
    "# Case 1\n",
    "numbers = []\n",
    "for i in range(1000000):\n",
    "    numbers.append(i)"
   ]
  },
  {
   "cell_type": "code",
   "execution_count": 39,
   "metadata": {},
   "outputs": [
    {
     "name": "stdout",
     "output_type": "stream",
     "text": [
      "43.1 ms ± 549 µs per loop (mean ± std. dev. of 7 runs, 10 loops each)\n"
     ]
    }
   ],
   "source": [
    "%%timeit\n",
    "# Case 2\n",
    "numbers = [i for i in range(1000000)]"
   ]
  },
  {
   "cell_type": "markdown",
   "metadata": {},
   "source": [
    "In this very simple case of _just creating_ the list, the list comprehension barely pulls ahead. What if we were doing some maths?"
   ]
  },
  {
   "cell_type": "code",
   "execution_count": 41,
   "metadata": {},
   "outputs": [
    {
     "name": "stdout",
     "output_type": "stream",
     "text": [
      "136 ms ± 1.24 ms per loop (mean ± std. dev. of 7 runs, 10 loops each)\n"
     ]
    }
   ],
   "source": [
    "%%timeit\n",
    "# Case 1 - Now with extra goodies!\n",
    "numbers = []\n",
    "for i in range(1000000):\n",
    "    numbers.append(i*(i+1)/2)"
   ]
  },
  {
   "cell_type": "code",
   "execution_count": 42,
   "metadata": {},
   "outputs": [
    {
     "name": "stdout",
     "output_type": "stream",
     "text": [
      "111 ms ± 490 µs per loop (mean ± std. dev. of 7 runs, 10 loops each)\n"
     ]
    }
   ],
   "source": [
    "%%timeit\n",
    "# Case 2 - Now with extra goodies!\n",
    "numbers = [i*(i+1) / 2 for i in range(1000000)]"
   ]
  },
  {
   "cell_type": "markdown",
   "metadata": {},
   "source": [
    "This also brings us to an important point. As you go along, you will learn to pick up (slightly or drastically more) _efficient_ ways of doing the same, simple task.\n",
    "\n",
    "Learn them well, but also see to it that you know their shortcomings as well.\n",
    "\n",
    "For example, using list comprehensions for simple lists is faster than the previous method of creating and appending to an empty list. However, in cases such as creating matrices, linearly-spaced arrays etc., it is best to go with something like a [NumPy](https://numpy.org) array, whose code is written to be fast for specifically these purposes.\n",
    "\n",
    "> Bottom line, there is no magic trick which speeds up _everything_<sup>1</sup>. Pick up tricks but know also where and how they fail.\n",
    "\n",
    "<sup>1</sup> : Except probably [numba](https://numba.pydata.org), but that too only works for (almost) everything NumPy. More on that soon."
   ]
  },
  {
   "cell_type": "code",
   "execution_count": 2,
   "metadata": {},
   "outputs": [
    {
     "name": "stdout",
     "output_type": "stream",
     "text": [
      "Enter 5 numbers (separated by spaces): 1 2 3 4 5\n",
      "The mean of the numbers entered: 3.0\n"
     ]
    }
   ],
   "source": [
    "# Question 1 : Write a program to accept 5 numbers and print their mean.\n",
    "numstring = input('Enter 5 numbers (separated by spaces): ') # input the numbers\n",
    "numlist = numstring.split(' ') # split the string, delimited by spaces\n",
    "numlist = [float(numlist[i]) for i in range(len(numlist))] # convert to floats\n",
    "mean = 0.\n",
    "for i in range(len(numlist)):\n",
    "\tmean += numlist[i] # accumulate\n",
    "mean = mean/(len(numlist)) # divide by number of e\n",
    "lements\n",
    "print(\"The mean of the numbers entered: \"+ str(mean))"
   ]
  },
  {
   "cell_type": "code",
   "execution_count": 3,
   "metadata": {},
   "outputs": [
    {
     "name": "stdout",
     "output_type": "stream",
     "text": [
      "Enter the number to find: 3\n",
      "Yes, found it!\n"
     ]
    }
   ],
   "source": [
    "# Question 2 : Checking if a user-input number is in a list.\n",
    "a = range(1, 6)\n",
    "b = input('Enter the number to find: ')\n",
    "if int(b) in a:\n",
    "\tprint('Yes, found it!')\n",
    "else:\n",
    "\tprint('Sorry, could not find that.')"
   ]
  },
  {
   "cell_type": "code",
   "execution_count": 4,
   "metadata": {},
   "outputs": [
    {
     "name": "stdout",
     "output_type": "stream",
     "text": [
      "[1, 4, 9, 16, 25, 36, 49, 64, 81, 100]\n"
     ]
    }
   ],
   "source": [
    "# Question 3 : Read numbers from text file and print square of those numbers.\n",
    "f = open('numbers.dat','r') # create a file object\n",
    "a = f.read().split('\\n') # read everything, and split with delimiter = \\n\n",
    "a = a[0:len(a)-1] # ignore the '' at the end\n",
    "b = [int(x)**2 for x in a] # list-comprehension to square\n",
    "print(b)"
   ]
  },
  {
   "cell_type": "code",
   "execution_count": 5,
   "metadata": {},
   "outputs": [
    {
     "name": "stdout",
     "output_type": "stream",
     "text": [
      "Enter a name: bharath\n",
      "BHARATH\n"
     ]
    }
   ],
   "source": [
    "# Question 4 : Read name from user, and print all-caps version of it\n",
    "name = input(\"Enter a name: \")\n",
    "print(name.upper())"
   ]
  },
  {
   "cell_type": "code",
   "execution_count": 6,
   "metadata": {},
   "outputs": [
    {
     "name": "stdout",
     "output_type": "stream",
     "text": [
      "Enter the number of random numbers: 10\n",
      "[59, 62, 36, 16, 100, 44, 99, 30, 75, 50]\n"
     ]
    }
   ],
   "source": [
    "# Question 5 : Generating N random integers, where N is user-input.\n",
    "from random import randint\n",
    "\n",
    "num = int( input('Enter the number of random numbers: ') )\n",
    "randarr = [randint(0, 100) for i in range(num)] # generate num random numbers in [0,100)\n",
    "print(randarr)"
   ]
  },
  {
   "cell_type": "code",
   "execution_count": 7,
   "metadata": {},
   "outputs": [
    {
     "name": "stdout",
     "output_type": "stream",
     "text": [
      "It is a palindrome!\n"
     ]
    }
   ],
   "source": [
    "# Question 6 : WAP that recognizes palindromes.\n",
    "def is_palindrome(var):\n",
    "    rev = var[::-1] # pythonic reversing. From start to end, but with negative steps\n",
    "    if(rev == var):\n",
    "        print('It is a palindrome!')\n",
    "    else:\n",
    "        print('Not a palindrome.')\n",
    "\n",
    "test = 'racecar'\n",
    "is_palindrome(test)"
   ]
  },
  {
   "cell_type": "code",
   "execution_count": 8,
   "metadata": {},
   "outputs": [
    {
     "name": "stdout",
     "output_type": "stream",
     "text": [
      "Enter a sentence. Make it as long as you want! :wonderful life\n",
      "wonderful\n",
      "life\n"
     ]
    }
   ],
   "source": [
    "# Question 7 : Read a sentence from the user, split it into words, and print each on\n",
    "# a separate line.\n",
    "sentence = input('Enter a sentence. Make it as long as you want! :')\n",
    "words = sentence.split(' ')\n",
    "for i in range(len(words)):\n",
    "    print(words[i])"
   ]
  },
  {
   "cell_type": "code",
   "execution_count": 9,
   "metadata": {},
   "outputs": [
    {
     "name": "stdout",
     "output_type": "stream",
     "text": [
      "Name\n",
      "Asif\n",
      "Bharath\n",
      "Chinmai\n",
      "Tatsat\n",
      "Jayant\n"
     ]
    }
   ],
   "source": [
    "# Question 8 : Read line by line from a multicolumn text file, split them into list\n",
    "# and print only first word of each line.\n",
    "with open('students.txt','r') as f:\n",
    "    a = f.readlines()\n",
    "    b = [a[i].rstrip().split('\\t') for i in range(len(a))]\n",
    "    firsts = [b[i][0] for i in range(len(b))]\n",
    "\n",
    "for i in firsts:\n",
    "    print(i)"
   ]
  },
  {
   "cell_type": "code",
   "execution_count": 10,
   "metadata": {},
   "outputs": [],
   "source": [
    "# Question 9 : Read line by line from a multicolumn text file, split them into list\n",
    "# and write into a text file.\n",
    "with open('students.txt','r') as f:\n",
    "    contents = f.read()\n",
    "    contents = contents.split('\\n')\n",
    "\n",
    "g = open('students_write.txt','w')\n",
    "for i in range(len(contents)):\n",
    "    g.write(contents[i])\n",
    "    g.write('\\n')\n",
    "g.close()"
   ]
  }
 ],
 "metadata": {
  "kernelspec": {
   "display_name": "Python 3",
   "language": "python",
   "name": "python3"
  },
  "language_info": {
   "codemirror_mode": {
    "name": "ipython",
    "version": 3
   },
   "file_extension": ".py",
   "mimetype": "text/x-python",
   "name": "python",
   "nbconvert_exporter": "python",
   "pygments_lexer": "ipython3",
   "version": "3.9.2"
  }
 },
 "nbformat": 4,
 "nbformat_minor": 2
}
