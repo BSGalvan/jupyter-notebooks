{
 "cells": [
  {
   "cell_type": "code",
   "execution_count": 2,
   "metadata": {},
   "outputs": [
    {
     "data": {
      "text/html": [
       "<link href='http://fonts.googleapis.com/css?family=Alegreya+Sans:100,300,400,500,700,800,900,100italic,300italic,400italic,500italic,700italic,800italic,900italic' rel='stylesheet' type='text/css'>\n",
       "<link href='http://fonts.googleapis.com/css?family=Arvo:400,700,400italic' rel='stylesheet' type='text/css'>\n",
       "<link href='http://fonts.googleapis.com/css?family=PT+Mono' rel='stylesheet' type='text/css'>\n",
       "<link href='http://fonts.googleapis.com/css?family=Shadows+Into+Light' rel='stylesheet' type='text/css'>\n",
       "<link href='http://fonts.googleapis.com/css?family=Philosopher:400,700,400italic,700italic' rel='stylesheet' type='text/css'>\n",
       "\n",
       "<style>\n",
       "\n",
       "@font-face {\n",
       "    font-family: \"Computer Modern\";\n",
       "    src: url('http://mirrors.ctan.org/fonts/cm-unicode/fonts/otf/cmunss.otf');\n",
       "}\n",
       "\n",
       "#notebook_panel { /* main background */\n",
       "    background: #ddd;\n",
       "    color: #000000;\n",
       "}\n",
       "\n",
       "\n",
       "\n",
       "/* Formatting for header cells */\n",
       ".text_cell_render h1 {\n",
       "    font-family: 'Philosopher', sans-serif;\n",
       "    font-weight: 400;\n",
       "    font-size: 2.2em;\n",
       "    line-height: 100%;\n",
       "    color: rgb(0, 80, 120);\n",
       "    margin-bottom: 0.1em;\n",
       "    margin-top: 0.1em;\n",
       "    display: block;\n",
       "}\t\n",
       ".text_cell_render h2 {\n",
       "    font-family: 'Philosopher', serif;\n",
       "    font-weight: 400;\n",
       "    font-size: 1.9em;\n",
       "    line-height: 100%;\n",
       "    color: rgb(200,100,0);\n",
       "    margin-bottom: 0.1em;\n",
       "    margin-top: 0.1em;\n",
       "    display: block;\n",
       "}\t\n",
       "\n",
       ".text_cell_render h3 {\n",
       "    font-family: 'Philosopher', serif;\n",
       "    margin-top:12px;\n",
       "    margin-bottom: 3px;\n",
       "    font-style: italic;\n",
       "    color: rgb(94,127,192);\n",
       "}\n",
       "\n",
       ".text_cell_render h4 {\n",
       "    font-family: 'Philosopher', serif;\n",
       "}\n",
       "\n",
       ".text_cell_render h5 {\n",
       "    font-family: 'Alegreya Sans', sans-serif;\n",
       "    font-weight: 300;\n",
       "    font-size: 16pt;\n",
       "    color: grey;\n",
       "    font-style: italic;\n",
       "    margin-bottom: .1em;\n",
       "    margin-top: 0.1em;\n",
       "    display: block;\n",
       "}\n",
       "\n",
       ".text_cell_render h6 {\n",
       "    font-family: 'PT Mono', sans-serif;\n",
       "    font-weight: 300;\n",
       "    font-size: 10pt;\n",
       "    color: grey;\n",
       "    margin-bottom: 1px;\n",
       "    margin-top: 1px;\n",
       "}\n",
       "\n",
       ".CodeMirror{\n",
       "        font-family: \"PT Mono\";\n",
       "        font-size: 100%;\n",
       "}\n",
       "\n",
       "</style>\n",
       "\n"
      ],
      "text/plain": [
       "<IPython.core.display.HTML object>"
      ]
     },
     "execution_count": 2,
     "metadata": {},
     "output_type": "execute_result"
    }
   ],
   "source": [
    "from IPython.core.display import HTML\n",
    "def css_styling():\n",
    "    styles = open(\"../style.css\", 'r').read()\n",
    "    return HTML(styles)\n",
    "css_styling()"
   ]
  },
  {
   "cell_type": "code",
   "execution_count": 2,
   "metadata": {},
   "outputs": [
    {
     "name": "stdout",
     "output_type": "stream",
     "text": [
      "Enter 5 numbers (separated by spaces): 1 2 3 4 5\n",
      "The mean of the numbers entered: 3.0\n"
     ]
    }
   ],
   "source": [
    "# Question 1 : Write a program to accept 5 numbers and print their mean.\n",
    "numstring = input('Enter 5 numbers (separated by spaces): ') # input the numbers\n",
    "numlist = numstring.split(' ') # split the string, delimited by spaces\n",
    "numlist = [float(numlist[i]) for i in range(len(numlist))] # convert to floats\n",
    "mean = 0.\n",
    "for i in range(len(numlist)):\n",
    "\tmean += numlist[i] # accumulate\n",
    "mean = mean/(len(numlist)) # divide by number of elements\n",
    "print(\"The mean of the numbers entered: \"+ str(mean))"
   ]
  },
  {
   "cell_type": "code",
   "execution_count": 3,
   "metadata": {},
   "outputs": [
    {
     "name": "stdout",
     "output_type": "stream",
     "text": [
      "Enter the number to find: 3\n",
      "Yes, found it!\n"
     ]
    }
   ],
   "source": [
    "# Question 2 : Checking if a user-input number is in a list.\n",
    "a = range(1, 6)\n",
    "b = input('Enter the number to find: ')\n",
    "if int(b) in a:\n",
    "\tprint('Yes, found it!')\n",
    "else:\n",
    "\tprint('Sorry, could not find that.')"
   ]
  },
  {
   "cell_type": "code",
   "execution_count": 4,
   "metadata": {},
   "outputs": [
    {
     "name": "stdout",
     "output_type": "stream",
     "text": [
      "[1, 4, 9, 16, 25, 36, 49, 64, 81, 100]\n"
     ]
    }
   ],
   "source": [
    "# Question 3 : Read numbers from text file and print square of those numbers.\n",
    "f = open('numbers.dat','r') # create a file object\n",
    "a = f.read().split('\\n') # read everything, and split with delimiter = \\n\n",
    "a = a[0:len(a)-1] # ignore the '' at the end\n",
    "b = [int(x)**2 for x in a] # list-comprehension to square\n",
    "print(b)"
   ]
  },
  {
   "cell_type": "code",
   "execution_count": 5,
   "metadata": {},
   "outputs": [
    {
     "name": "stdout",
     "output_type": "stream",
     "text": [
      "Enter a name: bharath\n",
      "BHARATH\n"
     ]
    }
   ],
   "source": [
    "# Question 4 : Read name from user, and print all-caps version of it\n",
    "name = input(\"Enter a name: \")\n",
    "print(name.upper())"
   ]
  },
  {
   "cell_type": "code",
   "execution_count": 6,
   "metadata": {},
   "outputs": [
    {
     "name": "stdout",
     "output_type": "stream",
     "text": [
      "Enter the number of random numbers: 10\n",
      "[59, 62, 36, 16, 100, 44, 99, 30, 75, 50]\n"
     ]
    }
   ],
   "source": [
    "# Question 5 : Generating N random integers, where N is user-input.\n",
    "from random import randint\n",
    "\n",
    "num = int( input('Enter the number of random numbers: ') )\n",
    "randarr = [randint(0, 100) for i in range(num)] # generate num random numbers in [0,100)\n",
    "print(randarr)"
   ]
  },
  {
   "cell_type": "code",
   "execution_count": 7,
   "metadata": {},
   "outputs": [
    {
     "name": "stdout",
     "output_type": "stream",
     "text": [
      "It is a palindrome!\n"
     ]
    }
   ],
   "source": [
    "# Question 6 : WAP that recognizes palindromes.\n",
    "def is_palindrome(var):\n",
    "    rev = var[::-1] # pythonic reversing. From start to end, but with negative steps\n",
    "    if(rev == var):\n",
    "        print('It is a palindrome!')\n",
    "    else:\n",
    "        print('Not a palindrome.')\n",
    "\n",
    "test = 'racecar'\n",
    "is_palindrome(test)"
   ]
  },
  {
   "cell_type": "code",
   "execution_count": 8,
   "metadata": {},
   "outputs": [
    {
     "name": "stdout",
     "output_type": "stream",
     "text": [
      "Enter a sentence. Make it as long as you want! :wonderful life\n",
      "wonderful\n",
      "life\n"
     ]
    }
   ],
   "source": [
    "# Question 7 : Read a sentence from the user, split it into words, and print each on\n",
    "# a separate line.\n",
    "sentence = input('Enter a sentence. Make it as long as you want! :')\n",
    "words = sentence.split(' ')\n",
    "for i in range(len(words)):\n",
    "    print(words[i])"
   ]
  },
  {
   "cell_type": "code",
   "execution_count": 9,
   "metadata": {},
   "outputs": [
    {
     "name": "stdout",
     "output_type": "stream",
     "text": [
      "Name\n",
      "Asif\n",
      "Bharath\n",
      "Chinmai\n",
      "Tatsat\n",
      "Jayant\n"
     ]
    }
   ],
   "source": [
    "# Question 8 : Read line by line from a multicolumn text file, split them into list\n",
    "# and print only first word of each line.\n",
    "with open('students.txt','r') as f:\n",
    "    a = f.readlines()\n",
    "    b = [a[i].rstrip().split('\\t') for i in range(len(a))]\n",
    "    firsts = [b[i][0] for i in range(len(b))]\n",
    "\n",
    "for i in firsts:\n",
    "    print(i)"
   ]
  },
  {
   "cell_type": "code",
   "execution_count": 10,
   "metadata": {},
   "outputs": [],
   "source": [
    "# Question 9 : Read line by line from a multicolumn text file, split them into list\n",
    "# and write into a text file.\n",
    "with open('students.txt','r') as f:\n",
    "    contents = f.read()\n",
    "    contents = contents.split('\\n')\n",
    "\n",
    "g = open('students_write.txt','w')\n",
    "for i in range(len(contents)):\n",
    "    g.write(contents[i])\n",
    "    g.write('\\n')\n",
    "g.close()"
   ]
  }
 ],
 "metadata": {
  "kernelspec": {
   "display_name": "Python 3",
   "language": "python",
   "name": "python3"
  },
  "language_info": {
   "codemirror_mode": {
    "name": "ipython",
    "version": 3
   },
   "file_extension": ".py",
   "mimetype": "text/x-python",
   "name": "python",
   "nbconvert_exporter": "python",
   "pygments_lexer": "ipython3",
   "version": "3.8.3"
  }
 },
 "nbformat": 4,
 "nbformat_minor": 2
}
