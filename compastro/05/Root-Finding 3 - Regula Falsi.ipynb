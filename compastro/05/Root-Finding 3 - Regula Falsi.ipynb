{
 "cells": [
  {
   "cell_type": "code",
   "execution_count": 17,
   "metadata": {},
   "outputs": [],
   "source": [
    "# Imports\n",
    "import numpy as np"
   ]
  },
  {
   "cell_type": "code",
   "execution_count": 18,
   "metadata": {},
   "outputs": [],
   "source": [
    "# Function definition\n",
    "def f(x):\n",
    "    return np.power(x, 3) - np.exp(x)"
   ]
  },
  {
   "cell_type": "code",
   "execution_count": 19,
   "metadata": {},
   "outputs": [],
   "source": [
    "# Regula Falsi Method\n",
    "\n",
    "def regulafalsi(bracket, steps, epsilon):\n",
    "    left = bracket[0]\n",
    "    fleft = f(left)\n",
    "    right = bracket[1]\n",
    "    fright = f(right)\n",
    "    step_count = 0\n",
    "    slope = (f(right) - f(left))/(right - left)\n",
    "    intercept = f(left) - slope * left\n",
    "    root = -intercept/slope\n",
    "    while f(root) > epsilon or step_count <= steps :\n",
    "        if f(root) * f(left) < 0:\n",
    "            right = root\n",
    "        if f(root) * f(right) < 0:\n",
    "            left = root\n",
    "        slope = (f(right) - f(left))/(right - left)\n",
    "        intercept = f(left) - slope * left\n",
    "        root = -intercept/slope\n",
    "        step_count += 1\n",
    "    return root"
   ]
  },
  {
   "cell_type": "code",
   "execution_count": 20,
   "metadata": {},
   "outputs": [
    {
     "data": {
      "text/plain": [
       "-1.3922111911773332"
      ]
     },
     "execution_count": 20,
     "metadata": {},
     "output_type": "execute_result"
    }
   ],
   "source": [
    "regulafalsi([0., 1.], 1000, 1e-5)"
   ]
  },
  {
   "cell_type": "code",
   "execution_count": null,
   "metadata": {},
   "outputs": [],
   "source": []
  }
 ],
 "metadata": {
  "kernelspec": {
   "display_name": "Python 3",
   "language": "python",
   "name": "python3"
  },
  "language_info": {
   "codemirror_mode": {
    "name": "ipython",
    "version": 3
   },
   "file_extension": ".py",
   "mimetype": "text/x-python",
   "name": "python",
   "nbconvert_exporter": "python",
   "pygments_lexer": "ipython3",
   "version": "3.7.3"
  }
 },
 "nbformat": 4,
 "nbformat_minor": 2
}
