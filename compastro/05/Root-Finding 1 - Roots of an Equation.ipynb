{
 "cells": [
  {
   "cell_type": "code",
   "execution_count": 11,
   "metadata": {},
   "outputs": [],
   "source": [
    "# Imports and Auxiliary Function Definitions\n",
    "import numpy as np\n",
    "import matplotlib.pyplot as plt\n",
    "\n",
    "def f(x):\n",
    "    return np.exp(np.sqrt(5) * x) - 13.5 * np.cos(0.1 * x) + 25 * np.power(x, 4)\n",
    "\n",
    "def fprime(x):\n",
    "    return np.sqrt(5)*np.exp(np.sqrt(5) * x) + 1.35 * np.sin(0.1 * x) + 100 * np.power(x, 3)"
   ]
  },
  {
   "cell_type": "markdown",
   "metadata": {},
   "source": [
    "# Newton-Raphson Method :\n",
    "\n",
    "The formula for calculating the roots using Newton-Raphson method is :\n",
    "$$ x_{n+1} = x_n - \\dfrac{f(x_n)}{f^{\\prime}(x_n)}$$"
   ]
  },
  {
   "cell_type": "code",
   "execution_count": 12,
   "metadata": {},
   "outputs": [],
   "source": [
    "# Newton-Raphson Method\n",
    "\n",
    "def NR(guess, steps, epsilon):\n",
    "    step_count = 0\n",
    "    while f(guess) > epsilon and step_count <= steps:\n",
    "        guess = guess - np.divide(f(guess), fprime(guess))\n",
    "        step_count += 1\n",
    "    return guess"
   ]
  },
  {
   "cell_type": "code",
   "execution_count": 13,
   "metadata": {},
   "outputs": [],
   "source": [
    "# Bisection Method\n",
    "\n",
    "def bisect(bracket, steps, epsilon):\n",
    "    left = bracket[0]\n",
    "    right = bracket[1]\n",
    "    step_count = 0\n",
    "    mid = (left + right)/2\n",
    "    while f(mid) > epsilon or step_count <= steps :\n",
    "        if f(mid) * f(left) < 0:\n",
    "            right = mid\n",
    "        if f(mid) * f(right) < 0:\n",
    "            left = mid\n",
    "        mid = (left + right) / 2\n",
    "        step_count += 1\n",
    "    return mid"
   ]
  },
  {
   "cell_type": "code",
   "execution_count": 14,
   "metadata": {},
   "outputs": [],
   "source": [
    "# Algorithm\n",
    "left_bracket = np.array([-1., 0.])\n",
    "right_bracket = np.array([0., 1.])\n",
    "guesses = np.array([bisect(left_bracket, 100, 1e-4), bisect(right_bracket, 100, 1e-4)])\n",
    "roots = np.array([NR(guesses[0], 100, 1e-7), NR(guesses[1], 100, 1e-7)])"
   ]
  },
  {
   "cell_type": "code",
   "execution_count": 24,
   "metadata": {},
   "outputs": [
    {
     "name": "stdout",
     "output_type": "stream",
     "text": [
      "Roots are : -0.8540824153433315, 0.7537011684140182\n"
     ]
    }
   ],
   "source": [
    "print(\"Roots are : \" + str(guesses[0]) + ', ' + str(guesses[1])) "
   ]
  }
 ],
 "metadata": {
  "kernelspec": {
   "display_name": "Python 3",
   "language": "python",
   "name": "python3"
  },
  "language_info": {
   "codemirror_mode": {
    "name": "ipython",
    "version": 3
   },
   "file_extension": ".py",
   "mimetype": "text/x-python",
   "name": "python",
   "nbconvert_exporter": "python",
   "pygments_lexer": "ipython3",
   "version": "3.7.3"
  }
 },
 "nbformat": 4,
 "nbformat_minor": 4
}
