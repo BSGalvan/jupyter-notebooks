{
 "cells": [
  {
   "cell_type": "code",
   "execution_count": 1,
   "metadata": {},
   "outputs": [],
   "source": [
    "### Imports and Auxiliary functions\n",
    "import numpy as np\n",
    "from scipy.integrate import quad\n",
    "\n",
    "def f(x):\n",
    "    return(np.power(x, 3)/ (np.exp(x) - 1))\n",
    "\n",
    "def f1(x):\n",
    "    return(np.power(x, 3) / (1 - np.exp(-x) ) )\n",
    "\n",
    "def f2(t):\n",
    "    return( ( np.power((1 - t), 3) / 16 ) * np.divide(1, np.exp((1-t) / 2) - 1))"
   ]
  },
  {
   "cell_type": "code",
   "execution_count": 2,
   "metadata": {},
   "outputs": [],
   "source": [
    "### Getting the Data for Gauss-Laguerre\n",
    "\n",
    "nodes = np.array([0.3225476896193923118004, 1.745761101158346575687, 4.536620296921127983279, 9.395070912301133129234])\n",
    "weights = np.array([0.603154104341633601636, 0.3574186924377996866415, 0.03888790851500538427244, 5.392947055613274501038e-4])"
   ]
  },
  {
   "cell_type": "code",
   "execution_count": 3,
   "metadata": {},
   "outputs": [],
   "source": [
    "### Computing the 4-point Gauss-Laguerre value\n",
    "\n",
    "value1 = np.sum(f1(nodes) * weights)"
   ]
  },
  {
   "cell_type": "code",
   "execution_count": 4,
   "metadata": {},
   "outputs": [],
   "source": [
    "### Getting the Data for Gauss-Legendre\n",
    "\n",
    "nodes = np.sort(np.array([0.8611363115940526, -0.8611363115940526, 0.3399810435848563, -0.3399810435848563]))\n",
    "weights = np.array([0.3478548451374538, 0.6521451548625461])"
   ]
  },
  {
   "cell_type": "code",
   "execution_count": 5,
   "metadata": {},
   "outputs": [],
   "source": [
    "### Computing the 4-point Gauss-Legendre value\n",
    "\n",
    "value2 = weights[1] * ( f2(nodes[1]) + f2(nodes[2]) )  + weights[0] * ( f2(nodes[0]) + f2(nodes[3]) )"
   ]
  },
  {
   "cell_type": "code",
   "execution_count": 6,
   "metadata": {},
   "outputs": [],
   "source": [
    "### Computing the required integral's value\n",
    "\n",
    "value = value1 - value2"
   ]
  },
  {
   "cell_type": "code",
   "execution_count": 7,
   "metadata": {},
   "outputs": [
    {
     "data": {
      "text/plain": [
       "6.269730452323331"
      ]
     },
     "execution_count": 7,
     "metadata": {},
     "output_type": "execute_result"
    }
   ],
   "source": [
    "value"
   ]
  },
  {
   "cell_type": "code",
   "execution_count": 8,
   "metadata": {},
   "outputs": [
    {
     "data": {
      "text/plain": [
       "(6.269134214240893, 7.115560690575812e-12)"
      ]
     },
     "execution_count": 8,
     "metadata": {},
     "output_type": "execute_result"
    }
   ],
   "source": [
    "quad(f, 1, 10000)"
   ]
  }
 ],
 "metadata": {
  "kernelspec": {
   "display_name": "Python 3",
   "language": "python",
   "name": "python3"
  },
  "language_info": {
   "codemirror_mode": {
    "name": "ipython",
    "version": 3
   },
   "file_extension": ".py",
   "mimetype": "text/x-python",
   "name": "python",
   "nbconvert_exporter": "python",
   "pygments_lexer": "ipython3",
   "version": "3.7.4"
  }
 },
 "nbformat": 4,
 "nbformat_minor": 2
}
