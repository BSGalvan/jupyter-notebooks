{
 "cells": [
  {
   "cell_type": "code",
   "execution_count": 2,
   "metadata": {},
   "outputs": [],
   "source": [
    "#Imports and Auxiliary Functions\n",
    "\n",
    "import numpy as np\n",
    "import matplotlib.pyplot as plt\n",
    "\n",
    "%matplotlib nbagg\n",
    "\n",
    "def TriSolve(a, b, c, r):\n",
    "    n = np.size(b)\n",
    "    beta = np.zeros(n)\n",
    "    rho = np.zeros(n)\n",
    "    solutions = np.zeros(n)\n",
    "    \n",
    "    beta[0] = b[0]\n",
    "    rho[0] = r[0]\n",
    "    \n",
    "    for j in range(1, n):\n",
    "        beta[j] = b[j] - ( a[j-1] / beta[j-1] ) * c[j-1]\n",
    "        rho[j] = r[j] - ( a[j-1] / beta[j-1] ) * rho[j-1]\n",
    "    \n",
    "    solutions[n-1] = rho[n-1]/beta[n-1]\n",
    "    \n",
    "    for j in range(n-1):\n",
    "        solutions[n-j-2] = (rho[n-j-2] - c[n-j-2] * solutions[n-j-1])/beta[n-j-2]\n",
    "        \n",
    "    return solutions\n",
    "\n",
    "def h(start, end):\n",
    "    return(end - start)"
   ]
  },
  {
   "cell_type": "code",
   "execution_count": 7,
   "metadata": {},
   "outputs": [],
   "source": [
    "# Main Solver - Takes points, function values at those points, and computes the second derivatives to fit\n",
    "# a natural cubic spline at a given point.\n",
    "\n",
    "def NatCubicSpline(xvalue, x, fx):\n",
    "    \n",
    "    n = np.size(x)\n",
    "    \n",
    "    b = np.zeros(n)\n",
    "    a = np.zeros(n-1)\n",
    "    c = np.zeros(n-1)\n",
    "    r = np.zeros(n)\n",
    "    \n",
    "    for j in range(n):\n",
    "        if(j == 0 or j == n-1):\n",
    "            b[j] = 1\n",
    "        else:\n",
    "            b[j] = 2 * ( h(x[j-1], x[j]) + h(x[j], x[j+1]) )\n",
    "    \n",
    "    for j in range(1, n-2):\n",
    "        a[j] = h(x[j], x[j+1])\n",
    "        \n",
    "    c = a\n",
    "    \n",
    "    for j in range(n):\n",
    "        if(j == 0 or j == n-1):\n",
    "            r[j] = 0\n",
    "        else:\n",
    "            r[j] = 6 * ( ( fx[j+1] - fx[j] )/h(x[j], x[j+1])  - ( fx[j] - fx[j-1] )/h(x[j-1], x[j]) )\n",
    "    \n",
    "    second = TriSolve(a, b, c, r)\n",
    "    \n",
    "    pos = 0\n",
    "    \n",
    "    if(xvalue < x[-1]):\n",
    "        j = 0\n",
    "        while(x[j] < xvalue):\n",
    "            j = j+1\n",
    "        pos = j\n",
    "        spline = fx[pos-1] + ((fx[pos] - fx[pos-1])/(x[pos] - x[pos-1]) - second[pos]/6 * (x[pos] - x[pos-1]) - second[pos-1] * (x[pos] - x[pos-1])/3) * (xvalue - x[pos-1]) + second[pos-1]/2 * (xvalue - x[pos-1]) ** 2 + ((second[pos] - second[pos-1])/(6 * (x[pos] - x[pos-1]))) * (xvalue - x[pos-1]) ** 3\n",
    "        return spline\n",
    "    else:\n",
    "        print(\"Point not in desired interval!\")"
   ]
  },
  {
   "cell_type": "code",
   "execution_count": 12,
   "metadata": {},
   "outputs": [],
   "source": [
    "### Main Function\n",
    "def Lagrange(points, func_values, x): # Defines a Lagrange polynomial over the points given.\n",
    "                                      # Evaluates it at x.\n",
    "    l = np.zeros_like(points)\n",
    "    for i in range(len(l)):\n",
    "        prod = 1\n",
    "        for j in range(np.shape(points)[0]):\n",
    "            if(j != i):\n",
    "                prod *= (x - points[j]) / (points[i] - points[j])\n",
    "        l[i] = prod\n",
    "    return(np.dot(l, func_values))    "
   ]
  },
  {
   "cell_type": "code",
   "execution_count": 28,
   "metadata": {},
   "outputs": [
    {
     "data": {
      "text/plain": [
       "Text(0, 0.5, 'y')"
      ]
     },
     "execution_count": 28,
     "metadata": {},
     "output_type": "execute_result"
    },
    {
     "data": {
      "image/png": "[encoded data removed]",
      "text/plain": [
       "<Figure size 720x720 with 1 Axes>"
      ]
     },
     "metadata": {
      "needs_background": "light"
     },
     "output_type": "display_data"
    }
   ],
   "source": [
    "values = np.arange(0, 45, 5)\n",
    "points = np.array([1, 13, 22])\n",
    "fx = np.array([4.579, 6.543, 9.209, 12.788, 17.535, 23.756, 31.824, 41.175, 55.324])\n",
    "approximations = np.zeros_like(points)\n",
    "for i in range(np.size(approximations)):\n",
    "    approximations[i] = NatCubicSpline(points[i], values, fx)\n",
    "\n",
    "approx1 = Lagrange(values[0:1], fx[0:1], -1.0) # evaluate the linear lagrange polynomial at -1\n",
    "approx2 = Lagrange(values[-2:], fx[-2:], 45.0) # evaluate the linear lagrange polynomial at 45\n",
    "\n",
    "\n",
    "approximations = np.hstack((np.hstack((approx1, approximations)), approx2)) # append new values\n",
    "points = np.hstack((np.hstack((np.array([-1]), points)), np.array([45])))\n",
    "\n",
    "fig = plt.figure()\n",
    "fig.set_size_inches(10, 10)\n",
    "plt.plot(values, fx, 'o' label='Actual')\n",
    "plt.plot(points, approximations, 'ko', mfc='r', label='Approximate Values')\n",
    "plt.legend()\n",
    "plt.xlabel('x')\n",
    "plt.ylabel('y')"
   ]
  },
  {
   "cell_type": "code",
   "execution_count": 29,
   "metadata": {},
   "outputs": [
    {
     "data": {
      "text/plain": [
       "array([ 4.579,  4.   , 11.   , 19.   , 69.473])"
      ]
     },
     "execution_count": 29,
     "metadata": {},
     "output_type": "execute_result"
    }
   ],
   "source": [
    "approximations"
   ]
  }
 ],
 "metadata": {
  "kernelspec": {
   "display_name": "Python 3",
   "language": "python",
   "name": "python3"
  },
  "language_info": {
   "codemirror_mode": {
    "name": "ipython",
    "version": 3
   },
   "file_extension": ".py",
   "mimetype": "text/x-python",
   "name": "python",
   "nbconvert_exporter": "python",
   "pygments_lexer": "ipython3",
   "version": "3.7.4"
  }
 },
 "nbformat": 4,
 "nbformat_minor": 2
}
