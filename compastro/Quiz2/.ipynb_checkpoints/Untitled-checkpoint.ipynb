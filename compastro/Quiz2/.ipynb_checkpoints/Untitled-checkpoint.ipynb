{
 "cells": [
  {
   "cell_type": "code",
   "execution_count": 1,
   "metadata": {},
   "outputs": [],
   "source": [
    "### Imports and Auxiliary Functions\n",
    "\n",
    "import numpy as np\n",
    "import matplotlib.pyplot as plt\n",
    "\n",
    "def cofactor(A, m, n): # Function to find and return the cofactor matrix of a matrix\n",
    "    shape = np.shape(A)\n",
    "    newshape = (shape[0]-1, shape[1]-1) # Since we will exclude one row and one column\n",
    "    B = []\n",
    "    for i in range(shape[0]):\n",
    "        for j in range(shape[1]):\n",
    "            if(i != m and j != n):\n",
    "                B.append(A[i][j]) # Linearly accumulate new elements\n",
    "    return np.reshape(B, newshape) # Reshape to form new matrix\n",
    "\n",
    "def determinant(A): # Function to calculate the determinants\n",
    "    shape = np.shape(A)\n",
    "    result = 0.\n",
    "    if(shape[0] == 2):\n",
    "        result = A[0][0] * A[1][1] - A[1][0] * A[0][1]\n",
    "    else:\n",
    "        for j in range(shape[1]):\n",
    "            term = 1.\n",
    "            term *= ((-1.)**j)*A[0][j]\n",
    "            cofactor_matrix = cofactor(A, 0, j)\n",
    "            term *= determinant(cofactor_matrix) # Recursive calculation\n",
    "            result += term\n",
    "    return result\n",
    "\n",
    "def traditional_matrix_inverse(A):\n",
    "    delta = determinant(A)\n",
    "    shape = np.shape(A)\n",
    "    adj = np.zeros_like(A)\n",
    "    for i in range(shape[0]):\n",
    "        for j in range(shape[1]):\n",
    "            adj[i][j] = (-1.)**(i + j) * determinant(cofactor(A, i, j))\n",
    "    adj = adj.T\n",
    "    inv = np.power(delta, -1) * adj\n",
    "    return inv"
   ]
  },
  {
   "cell_type": "code",
   "execution_count": 2,
   "metadata": {},
   "outputs": [],
   "source": [
    "### Least Square Regression - Polynomial Regression - Main Function\n",
    "\n",
    "def LSR(x, y, sigma, degree, retchi=True):\n",
    "    n = np.size(x)\n",
    "    m = degree\n",
    "    A = np.divide( np.power( np.reshape( np.repeat( x, m+1, axis=0 ), ( n, -1 ) ), np.arange( m + 1 ) ), np.reshape( np.repeat( sigma, m+1, axis=0 ), ( n, -1 ) ) )\n",
    "    A_trans = np.transpose(A)\n",
    "    C = traditional_matrix_inverse(np.matmul(A_trans, A))\n",
    "    a = np.matmul(np.matmul(C, A_trans), y / sigma)\n",
    "    errors = np.sqrt( np.array([C[i, i] for i in range(m + 1)]) )\n",
    "    if(retchi==True):\n",
    "        delta = np.sum( a * ( np.power( np.reshape( np.repeat( x, m+1, axis=0 ), ( n, -1 ) ), np.arange( m + 1 ) ) ), axis=1 ) - y\n",
    "        chi_sq = np.sum( ( delta / sigma ) ** 2 )\n",
    "        return(a, errors, chi_sq)\n",
    "    else:\n",
    "        return(a, errors)"
   ]
  },
  {
   "cell_type": "code",
   "execution_count": 16,
   "metadata": {},
   "outputs": [],
   "source": [
    "### Get the data and Fit a Polynomial (quadratic) Function\n",
    "y = np.array([4.579, 6.543, 9.209, 12.788, 17.535, 23.756, 31.824, 41.175, 55.324])\n",
    "x = np.arange(0, 45, 5)\n",
    "error = 0.01 * np.ones(np.size(y))\n",
    "a, errors, chi_sq = LSR(x, y, error, 2, True)"
   ]
  },
  {
   "cell_type": "code",
   "execution_count": 17,
   "metadata": {},
   "outputs": [
    {
     "data": {
      "text/plain": [
       "<matplotlib.legend.Legend at 0x11f545e50>"
      ]
     },
     "execution_count": 17,
     "metadata": {},
     "output_type": "execute_result"
    },
    {
     "data": {
      "image/png": "[encoded data removed]",
      "text/plain": [
       "<Figure size 720x576 with 1 Axes>"
      ]
     },
     "metadata": {
      "needs_background": "light"
     },
     "output_type": "display_data"
    }
   ],
   "source": [
    "### Plotting\n",
    "\n",
    "fig = plt.figure()\n",
    "fig.set_size_inches(10,8)\n",
    "plt.errorbar(x, y, yerr=error, fmt='ro' ,ecolor='k', lolims=True, uplims=True, label='Actual Data')\n",
    "plt.plot(x, np.sum( a * ( np.power( np.reshape( np.repeat( x, np.size(a) , axis=0 ), ( np.size(x), -1 ) ), np.arange( np.size(a) ) ) ), axis=1 ) , 'b*-', label='Quadratic Fit')\n",
    "plt.grid(True)\n",
    "plt.xlabel('$x$')\n",
    "plt.ylabel('$y$')\n",
    "plt.legend()"
   ]
  },
  {
   "cell_type": "code",
   "execution_count": 18,
   "metadata": {},
   "outputs": [
    {
     "name": "stdout",
     "output_type": "stream",
     "text": [
      "The Linear Fit is: 5.503763636363631 + (-0.021091861471861595) * x + (0.030783463203463153) * x^2\n",
      "The errors in (a1, a2, a3) are: [8.12776759e-03 9.47541819e-04 2.27921153e-05]\n",
      "The Chi-squared value of this fit is: 66293.70313419896\n",
      "The Reduced Chi-squared value of this fit is: 11048.950522366495\n"
     ]
    }
   ],
   "source": [
    "print('The Linear Fit is: ' + str(a[0]) + ' + (' + str(a[1]) + ') * x' + ' + (' + str(a[2]) + ') * x^2')\n",
    "print('The errors in (a1, a2, a3) are: ' + str(errors))\n",
    "print('The Chi-squared value of this fit is: ' + str(chi_sq))\n",
    "print('The Reduced Chi-squared value of this fit is: ' + str(chi_sq / (np.size(x) - np.size(a)) ))"
   ]
  },
  {
   "cell_type": "code",
   "execution_count": null,
   "metadata": {},
   "outputs": [],
   "source": []
  }
 ],
 "metadata": {
  "kernelspec": {
   "display_name": "Python 3",
   "language": "python",
   "name": "python3"
  },
  "language_info": {
   "codemirror_mode": {
    "name": "ipython",
    "version": 3
   },
   "file_extension": ".py",
   "mimetype": "text/x-python",
   "name": "python",
   "nbconvert_exporter": "python",
   "pygments_lexer": "ipython3",
   "version": "3.7.4"
  }
 },
 "nbformat": 4,
 "nbformat_minor": 2
}
