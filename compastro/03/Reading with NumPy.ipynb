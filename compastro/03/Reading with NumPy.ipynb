{
 "cells": [
  {
   "cell_type": "code",
   "execution_count": 1,
   "metadata": {},
   "outputs": [],
   "source": [
    "# Imports\n",
    "import numpy as np\n",
    "from scipy.constants import e, m_e"
   ]
  },
  {
   "cell_type": "code",
   "execution_count": 2,
   "metadata": {},
   "outputs": [],
   "source": [
    "# Constants\n",
    "mass = m_e\n",
    "charge = e"
   ]
  },
  {
   "cell_type": "code",
   "execution_count": 3,
   "metadata": {},
   "outputs": [],
   "source": [
    "# Reading data from B.dat : File containing magnetic fields (in Tesla) for two cases\n",
    "fname = 'B.dat'\n",
    "magnetic_field = np.loadtxt(fname)"
   ]
  },
  {
   "cell_type": "code",
   "execution_count": 4,
   "metadata": {},
   "outputs": [],
   "source": [
    "# Reading from u.dat : File containing velocity vector (in m/s)\n",
    "fname = 'u.dat'\n",
    "velocity = np.loadtxt(fname)"
   ]
  },
  {
   "cell_type": "code",
   "execution_count": 5,
   "metadata": {},
   "outputs": [],
   "source": [
    "# Calculating the force\n",
    "force = charge * np.cross(velocity, magnetic_field)"
   ]
  },
  {
   "cell_type": "code",
   "execution_count": 6,
   "metadata": {},
   "outputs": [],
   "source": [
    "# Calculating the acceleration\n",
    "acceleration = force / mass"
   ]
  },
  {
   "cell_type": "code",
   "execution_count": 7,
   "metadata": {},
   "outputs": [
    {
     "name": "stdout",
     "output_type": "stream",
     "text": [
      "[[ 1.45982062e+12  2.32164243e+12  3.41211085e+12]\n",
      " [-1.58293802e+12  3.95734505e+12  0.00000000e+00]]\n"
     ]
    }
   ],
   "source": [
    "print(acceleration)"
   ]
  },
  {
   "cell_type": "code",
   "execution_count": 8,
   "metadata": {},
   "outputs": [],
   "source": [
    "# Calculating the angles between acceleration and magnetic field\n",
    "angle = np.arccos(np.divide(np.sum(np.multiply(acceleration, magnetic_field), axis = 1), np.linalg.norm(acceleration, axis = 1) * np.linalg.norm(magnetic_field, axis = 1)))"
   ]
  },
  {
   "cell_type": "code",
   "execution_count": 9,
   "metadata": {},
   "outputs": [
    {
     "name": "stdout",
     "output_type": "stream",
     "text": [
      "[1.57079633 1.57079633]\n"
     ]
    }
   ],
   "source": [
    "print(angle)"
   ]
  }
 ],
 "metadata": {
  "kernelspec": {
   "display_name": "Python 3",
   "language": "python",
   "name": "python3"
  },
  "language_info": {
   "codemirror_mode": {
    "name": "ipython",
    "version": 3
   },
   "file_extension": ".py",
   "mimetype": "text/x-python",
   "name": "python",
   "nbconvert_exporter": "python",
   "pygments_lexer": "ipython3",
   "version": "3.7.3"
  }
 },
 "nbformat": 4,
 "nbformat_minor": 2
}
