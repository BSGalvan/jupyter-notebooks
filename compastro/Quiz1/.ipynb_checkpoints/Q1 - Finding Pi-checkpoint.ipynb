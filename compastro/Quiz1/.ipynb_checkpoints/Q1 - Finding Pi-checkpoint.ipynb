{
 "cells": [
  {
   "cell_type": "markdown",
   "metadata": {},
   "source": [
    "$$\\dfrac{1}{\\pi} = \\dfrac{2\\sqrt{2}}{9801} \\sum_{k=0}^{\\infty} \\dfrac{(4k)! (1103 + 26390k)}{(k!)^4 396^{4k}}$$"
   ]
  },
  {
   "cell_type": "code",
   "execution_count": 1,
   "metadata": {},
   "outputs": [],
   "source": [
    "# Imports and auxiliary function definition\n",
    "import numpy as np\n",
    "\n",
    "def factorial(x):\n",
    "    if(x == 0 or x == 1):\n",
    "        return 1\n",
    "    else:\n",
    "        prod = x * factorial(x-1) # A recursive definition of the factorial function\n",
    "        return prod"
   ]
  },
  {
   "cell_type": "code",
   "execution_count": 29,
   "metadata": {},
   "outputs": [],
   "source": [
    "# Function definition\n",
    "\n",
    "def piapprox():\n",
    "    factor = np.divide( 2 * np.sqrt(2), 9801 ) # the factor in front\n",
    "    tol = 1e-15 # when we want the summation to stop\n",
    "    summation = 0 # initialise the summation\n",
    "    term = 1 # initialise the terms in the summation\n",
    "    k = 0\n",
    "    while term > tol:\n",
    "        term = ( factorial(4 * k) * (1103 + 26390 * k) ) # doing a straight calculation returns an overflow error\n",
    "        term = np.divide( term, np.power((factorial(k)), 4) ) # while multiplying the two terms in the denominator\n",
    "        term = np.divide( term, np.power(396, 4 * k) ) # hence break up the operations for more accuracy\n",
    "        summation += term\n",
    "        k += 1\n",
    "    # print(k) <-- will give the exit condition\n",
    "    summation *= factor\n",
    "    return summation"
   ]
  },
  {
   "cell_type": "code",
   "execution_count": 36,
   "metadata": {},
   "outputs": [
    {
     "name": "stdout",
     "output_type": "stream",
     "text": [
      "3\n"
     ]
    },
    {
     "data": {
      "text/plain": [
       "0.31830988618378087"
      ]
     },
     "execution_count": 36,
     "metadata": {},
     "output_type": "execute_result"
    }
   ],
   "source": [
    "piapprox()"
   ]
  },
  {
   "cell_type": "code",
   "execution_count": null,
   "metadata": {},
   "outputs": [],
   "source": [
    "np.power( np.pi, -1 )"
   ]
  }
 ],
 "metadata": {
  "kernelspec": {
   "display_name": "Python 3",
   "language": "python",
   "name": "python3"
  },
  "language_info": {
   "codemirror_mode": {
    "name": "ipython",
    "version": 3
   },
   "file_extension": ".py",
   "mimetype": "text/x-python",
   "name": "python",
   "nbconvert_exporter": "python",
   "pygments_lexer": "ipython3",
   "version": "3.7.3"
  }
 },
 "nbformat": 4,
 "nbformat_minor": 2
}
