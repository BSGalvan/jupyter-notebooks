{
 "cells": [
  {
   "cell_type": "code",
   "execution_count": 1,
   "metadata": {},
   "outputs": [],
   "source": [
    "### Imports and Auxiliary Functions\n",
    "\n",
    "import numpy as np\n",
    "import matplotlib.pyplot as plt\n",
    "from astropy import constants as const\n",
    "from math import pi\n",
    "\n",
    "pc = const.pc.cgs.value # 1 parsec in cgs\n",
    "au = const.au.cgs.value # 1 AU in cgs\n",
    "c = const.c.cgs.value # speed of light in cgs\n",
    "\n",
    "R_0 = 1 * au\n",
    "\n",
    "beta = 0.9\n",
    "\n",
    "def retY(t, R_0 = 100 * au):\n",
    "    return(c * t / R_0)\n",
    "\n",
    "def f(x, y, theta):\n",
    "    return(y - x * ((1 / beta) * np.sqrt(x) - np.cos(theta)))\n",
    "\n",
    "def fprime(x, theta):\n",
    "    return(-(1.5/beta) * np.sqrt(x) + np.cos(theta))\n",
    "\n",
    "def NR(guess, steps, epsilon, y, theta): # Newton-Raphson Method\n",
    "    step_count = 0\n",
    "    while np.abs(f(guess, y, theta)) > epsilon and step_count <= steps:\n",
    "        guess = guess - np.divide(f(guess, y, theta), fprime(guess, theta))\n",
    "        step_count += 1\n",
    "    return guess"
   ]
  },
  {
   "cell_type": "code",
   "execution_count": 2,
   "metadata": {},
   "outputs": [],
   "source": [
    "time = 10\n",
    "theta = np.linspace(0, 2 * pi, 500)\n",
    "locus = []\n",
    "\n",
    "for angle in theta:\n",
    "        R_soln = NR(0.5, 1000, 1e-6, retY(time), angle)\n",
    "        locus.append(R_soln)\n",
    "locus = np.reshape(np.array(locus), (np.size(time), np.size(theta)))"
   ]
  },
  {
   "cell_type": "code",
   "execution_count": 3,
   "metadata": {},
   "outputs": [],
   "source": [
    "x = R_0 * locus * np.cos(theta)\n",
    "y = R_0 * locus * np.sin(theta)"
   ]
  },
  {
   "cell_type": "code",
   "execution_count": 4,
   "metadata": {},
   "outputs": [
    {
     "data": {
      "text/plain": [
       "<matplotlib.collections.PathCollection at 0x11d9c79d0>"
      ]
     },
     "execution_count": 4,
     "metadata": {},
     "output_type": "execute_result"
    },
    {
     "data": {
      "image/png": "[encoded data removed]",
      "text/plain": [
       "<Figure size 1080x360 with 1 Axes>"
      ]
     },
     "metadata": {
      "needs_background": "light"
     },
     "output_type": "display_data"
    }
   ],
   "source": [
    "fig = plt.figure()\n",
    "fig.set_size_inches(15., 5)\n",
    "plt.scatter(x, y)"
   ]
  }
 ],
 "metadata": {
  "kernelspec": {
   "display_name": "Python 3",
   "language": "python",
   "name": "python3"
  },
  "language_info": {
   "codemirror_mode": {
    "name": "ipython",
    "version": 3
   },
   "file_extension": ".py",
   "mimetype": "text/x-python",
   "name": "python",
   "nbconvert_exporter": "python",
   "pygments_lexer": "ipython3",
   "version": "3.7.4"
  }
 },
 "nbformat": 4,
 "nbformat_minor": 2
}
