{
 "cells": [
  {
   "cell_type": "markdown",
   "metadata": {},
   "source": [
    "# Inversion : The Traditional Way\n",
    "\n",
    "$$\\mathbf{A^{-1}} = \\dfrac{1}{|\\mathbf{A}|} \\text{adj(A})$$"
   ]
  },
  {
   "cell_type": "code",
   "execution_count": 1,
   "metadata": {},
   "outputs": [],
   "source": [
    "# Imports and Auxiliary Functions\n",
    "import numpy as np\n",
    "\n",
    "def cofactor(A, m, n): # Function to find and return the cofactor matrix of a matrix\n",
    "    shape = np.shape(A)\n",
    "    newshape = (shape[0]-1, shape[1]-1) # Since we will exclude one row and one column\n",
    "    B = []\n",
    "    for i in range(shape[0]):\n",
    "        for j in range(shape[1]):\n",
    "            if(i != m and j != n):\n",
    "                B.append(A[i][j]) # Linearly accumulate new elements\n",
    "    return np.reshape(B, newshape) # Reshape to form new matrix\n",
    "\n",
    "def determinant(A): # Function to calculate the determinants\n",
    "    shape = np.shape(A)\n",
    "    result = 0.\n",
    "    if(shape[0] == 2):\n",
    "        result = A[0][0] * A[1][1] - A[1][0] * A[0][1]\n",
    "    else:\n",
    "        for j in range(shape[1]):\n",
    "            term = 1.\n",
    "            term *= ((-1.)**j)*A[0][j]\n",
    "            cofactor_matrix = cofactor(A, 0, j)\n",
    "            term *= determinant(cofactor_matrix) # Recursive calculation\n",
    "            result += term\n",
    "    return result"
   ]
  },
  {
   "cell_type": "code",
   "execution_count": 2,
   "metadata": {},
   "outputs": [],
   "source": [
    "# Traditional Inverse - Main Function\n",
    "\n",
    "def traditional_matrix_inverse(A):\n",
    "    delta = determinant(A)\n",
    "    shape = np.shape(A)\n",
    "    adj = np.zeros_like(A)\n",
    "    for i in range(shape[0]):\n",
    "        for j in range(shape[1]):\n",
    "            adj[i][j] = (-1.)**(i + j) * determinant(cofactor(A, i, j))\n",
    "    adj = adj.T\n",
    "    inv = np.power(delta, -1) * adj\n",
    "    return inv"
   ]
  },
  {
   "cell_type": "markdown",
   "metadata": {},
   "source": [
    "---\n",
    "# Inversion : The Non-traditional Way\n",
    "We will solve the system of linear equations given by :\n",
    "$$\\mathbf{A}\\vec{x}_j = \\mathbf{I}_j \\quad (\\text{j }=1, \\cdots, n)$$\n",
    "where, $\\mathbf{I}_j$ is the j$^{th}$ column of the n x n identity matrix, and the solutions to the above system defines the j$^{th}$ column of the inverse matrix."
   ]
  },
  {
   "cell_type": "code",
   "execution_count": 3,
   "metadata": {},
   "outputs": [],
   "source": [
    "# Non-traditional Inverse - Gaussian Elimination auxiliary function\n",
    "\n",
    "def gaussian_eliminate(A, b):\n",
    "    rows = np.shape(A)[0]\n",
    "    columns = np.shape(A)[1]\n",
    "    B = np.copy(A)\n",
    "    c = np.copy(b)\n",
    "    \n",
    "    if(B[0][0] == 0):\n",
    "        temp = B[0][:]\n",
    "        B[0][:] = B[1][:]\n",
    "        B[1][:] = temp\n",
    "        temp = c[0]\n",
    "        c[0] = c[1]\n",
    "        c[1] = temp\n",
    "        \n",
    "    for i in range(rows):\n",
    "        for j in range(i+1, rows):\n",
    "            multfactor = B[j][i] / B[i][i]\n",
    "            B[j][:] = B[j][:] - multfactor * B[i][:]\n",
    "            c[j] = c[j] - multfactor * c[i]\n",
    "            \n",
    "    outputs = np.zeros(columns)\n",
    "    \n",
    "    for i in range(rows-1, -1, -1):\n",
    "        summation = 0\n",
    "        for j in range(columns-1, i, -1):\n",
    "            summation += B[i][j] * outputs[j]\n",
    "        answer = (c[i] - summation) / B[i][i]\n",
    "        outputs[i] = answer\n",
    "        \n",
    "    return(outputs)"
   ]
  },
  {
   "cell_type": "code",
   "execution_count": 4,
   "metadata": {},
   "outputs": [],
   "source": [
    "# Non-traditional Inverse - Main Function\n",
    "\n",
    "def nontraditional_matrix_inverse(A):\n",
    "    shape = np.shape(A)\n",
    "    I = np.eye(shape[0])\n",
    "    inv = np.zeros_like(A, dtype=float)\n",
    "    for j in range(shape[1]):\n",
    "        a = A\n",
    "        b = I[:][j]\n",
    "        inv[:][j] = gaussian_eliminate(a, b) #currently using Gaussian Elimination code\n",
    "    return inv.T"
   ]
  },
  {
   "cell_type": "markdown",
   "metadata": {},
   "source": [
    "---\n",
    "# Inversion : Using the Faddeev-LeVerrier Algorithm\n",
    "In the Faddeev-LeVerrier Algorithm, we define the auxiliary matrices and the coefficients as follows:\n",
    "$$\\mathbf{M}_0 = \\mathbf{0}; \\quad c_n = 1 \\quad( k = 0 )$$\n",
    "\n",
    "$$\\mathbf{M}_k = \\mathbf{AM}_{k-1} + c_{n-k+1}\\cdot \\mathbf{I}; \\quad c_{n-k} = \\dfrac{-1}{k}\\text{Tr}(\\mathbf{AM}_k) \\quad(k = 1\\cdots n)$$\n",
    "\n",
    "Then, the inverse of the matrix $\\textbf{A}$ is given by :\n",
    "$$\\mathbf{A}^{-1} = -\\dfrac{1}{c_0} \\mathbf{M_n}$$"
   ]
  },
  {
   "cell_type": "code",
   "execution_count": 5,
   "metadata": {},
   "outputs": [],
   "source": [
    "# FLV Algorithm - Main Function\n",
    "\n",
    "def FLV(A):\n",
    "    n = np.shape(A)[0]\n",
    "    c = np.zeros(n + 1)\n",
    "    I = np.eye(n)\n",
    "    for k in range(n + 1):\n",
    "        if(k == 0):\n",
    "            M = np.zeros_like(A, dtype=float)\n",
    "            c[-1] = 1.\n",
    "        else:\n",
    "            M = np.matmul(A, M) + c[n - k + 1] * I\n",
    "            c[n - k] = (-1 / k) * np.trace(np.matmul(A, M))\n",
    "    inv = (-1 / c[0]) * M\n",
    "    return inv"
   ]
  },
  {
   "cell_type": "markdown",
   "metadata": {},
   "source": [
    "---\n",
    "# Bringing it all Together"
   ]
  },
  {
   "cell_type": "code",
   "execution_count": 6,
   "metadata": {},
   "outputs": [],
   "source": [
    "matrix = np.array([[5, 7, 6, 3], [7, 10, 8, 7], [6, 8, 10, 9], [5, 7, 9, 10]], dtype=float)\n",
    "inv1 = traditional_matrix_inverse(matrix)\n",
    "inv2 = nontraditional_matrix_inverse(matrix)\n",
    "inv3 = FLV(matrix)\n"
   ]
  },
  {
   "cell_type": "code",
   "execution_count": 7,
   "metadata": {},
   "outputs": [
    {
     "data": {
      "text/plain": [
       "True"
      ]
     },
     "execution_count": 7,
     "metadata": {},
     "output_type": "execute_result"
    }
   ],
   "source": [
    "np.allclose(np.matmul(matrix, inv1) , np.eye(np.shape(inv1)[0]))"
   ]
  },
  {
   "cell_type": "code",
   "execution_count": 8,
   "metadata": {},
   "outputs": [
    {
     "data": {
      "text/plain": [
       "True"
      ]
     },
     "execution_count": 8,
     "metadata": {},
     "output_type": "execute_result"
    }
   ],
   "source": [
    "np.allclose(np.matmul(matrix, inv2) , np.eye(np.shape(inv2)[0]))"
   ]
  },
  {
   "cell_type": "code",
   "execution_count": 9,
   "metadata": {},
   "outputs": [
    {
     "data": {
      "text/plain": [
       "True"
      ]
     },
     "execution_count": 9,
     "metadata": {},
     "output_type": "execute_result"
    }
   ],
   "source": [
    "np.allclose(np.matmul(matrix, inv3) , np.eye(np.shape(inv3)[0]))"
   ]
  },
  {
   "cell_type": "code",
   "execution_count": 10,
   "metadata": {},
   "outputs": [
    {
     "data": {
      "text/plain": [
       "-19.0"
      ]
     },
     "execution_count": 10,
     "metadata": {},
     "output_type": "execute_result"
    }
   ],
   "source": [
    "determinant(matrix)"
   ]
  },
  {
   "cell_type": "code",
   "execution_count": 11,
   "metadata": {},
   "outputs": [
    {
     "data": {
      "text/plain": [
       "array([[-3.57894737,  1.94736842,  4.47368421, -4.31578947],\n",
       "       [ 2.15789474, -0.89473684, -2.94736842,  2.63157895],\n",
       "       [ 0.89473684, -0.73684211, -0.36842105,  0.57894737],\n",
       "       [-0.52631579,  0.31578947,  0.15789474, -0.10526316]])"
      ]
     },
     "execution_count": 11,
     "metadata": {},
     "output_type": "execute_result"
    }
   ],
   "source": [
    "inv1"
   ]
  },
  {
   "cell_type": "code",
   "execution_count": 12,
   "metadata": {},
   "outputs": [
    {
     "data": {
      "text/plain": [
       "array([[-3.57894737,  1.94736842,  4.47368421, -4.31578947],\n",
       "       [ 2.15789474, -0.89473684, -2.94736842,  2.63157895],\n",
       "       [ 0.89473684, -0.73684211, -0.36842105,  0.57894737],\n",
       "       [-0.52631579,  0.31578947,  0.15789474, -0.10526316]])"
      ]
     },
     "execution_count": 12,
     "metadata": {},
     "output_type": "execute_result"
    }
   ],
   "source": [
    "inv2"
   ]
  },
  {
   "cell_type": "code",
   "execution_count": 13,
   "metadata": {},
   "outputs": [
    {
     "data": {
      "text/plain": [
       "array([[-3.57894737,  1.94736842,  4.47368421, -4.31578947],\n",
       "       [ 2.15789474, -0.89473684, -2.94736842,  2.63157895],\n",
       "       [ 0.89473684, -0.73684211, -0.36842105,  0.57894737],\n",
       "       [-0.52631579,  0.31578947,  0.15789474, -0.10526316]])"
      ]
     },
     "execution_count": 13,
     "metadata": {},
     "output_type": "execute_result"
    }
   ],
   "source": [
    "inv3"
   ]
  }
 ],
 "metadata": {
  "kernelspec": {
   "display_name": "Python 3",
   "language": "python",
   "name": "python3"
  },
  "language_info": {
   "codemirror_mode": {
    "name": "ipython",
    "version": 3
   },
   "file_extension": ".py",
   "mimetype": "text/x-python",
   "name": "python",
   "nbconvert_exporter": "python",
   "pygments_lexer": "ipython3",
   "version": "3.7.4"
  }
 },
 "nbformat": 4,
 "nbformat_minor": 2
}
