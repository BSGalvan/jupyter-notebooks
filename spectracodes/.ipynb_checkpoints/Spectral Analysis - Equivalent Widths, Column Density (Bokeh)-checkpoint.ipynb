{
 "cells": [
  {
   "cell_type": "code",
   "execution_count": 1,
   "metadata": {},
   "outputs": [],
   "source": [
    "### Imports\n",
    "\n",
    "import numpy as np\n",
    "from math import floor\n",
    "from bokeh.io import output_file, show\n",
    "from bokeh.plotting import figure\n",
    "from bokeh.layouts import column"
   ]
  },
  {
   "cell_type": "code",
   "execution_count": 2,
   "metadata": {},
   "outputs": [],
   "source": [
    "m_e = 9.1093897e-28\n",
    "c = 2.99792458e10\n",
    "e = 4.8032068e-10\n",
    "pi = 3.1415926535"
   ]
  },
  {
   "cell_type": "code",
   "execution_count": 3,
   "metadata": {},
   "outputs": [],
   "source": [
    "output_file('plot.html')"
   ]
  },
  {
   "cell_type": "code",
   "execution_count": 4,
   "metadata": {},
   "outputs": [],
   "source": [
    "### Auxiliary Functions\n",
    "\n",
    "def move_forward(wavelength, start, end):\n",
    "    if(end + steps > np.size(wavelength)):\n",
    "        print(\"Cannot move forward! Already at the end!\")\n",
    "    else:\n",
    "        start = end\n",
    "        end = end + steps\n",
    "    return(start, end)\n",
    "        \n",
    "def move_backward(wavelength, start, end):\n",
    "    if(start - steps < 0):\n",
    "        print(\"Cannot move backward! Already at the start!\")\n",
    "    else:\n",
    "        end = start\n",
    "        start = start - steps\n",
    "    return(start, end)\n",
    "\n",
    "def lamfluxrange(start, end, wavelength, flux, flux_err):\n",
    "    return(wavelength[start:end+1], flux[start:end+1], flux_err[start:end+1])\n",
    "\n",
    "def get_limits():\n",
    "    start = np.float(input(\"Enter the start wavelength: \"))\n",
    "    end = np.float(input(\"Enter the end wavelength: \"))\n",
    "    return(start, end)"
   ]
  },
  {
   "cell_type": "code",
   "execution_count": 5,
   "metadata": {},
   "outputs": [],
   "source": [
    "### Main Functions\n",
    "\n",
    "def eq_width(wavelength, flux, flux_err, lam_start, lam_end):\n",
    "    delta_lam = wavelength[1]-wavelength[0]\n",
    "    flux = flux[np.multiply(wavelength >= lam_start, wavelength <= lam_end)]\n",
    "    flux_err = flux_err[np.multiply(wavelength >= lam_start, wavelength <= lam_end)]\n",
    "    val = np.sum( (1 - flux) * delta_lam )\n",
    "    error = np.sqrt( np.sum( np.power(flux_err * delta_lam, 2) ) )\n",
    "    return val, error\n",
    "\n",
    "def zeq_width(z, wavelength, flux, flux_err, lam_start, lam_end):\n",
    "    delta_lam = wavelength[1]-wavelength[0]\n",
    "    flux = flux[np.multiply(wavelength >= lam_start, wavelength <= lam_end)]\n",
    "    flux_err = flux_err[np.multiply(wavelength >= lam_start, wavelength <= lam_end)]\n",
    "    val = np.sum( (1 - flux) * delta_lam ) / (1 + z)\n",
    "    error = np.sqrt( np.sum( np.power(flux_err * delta_lam, 2) ) ) / (1 + z)\n",
    "    return val, error\n",
    "\n",
    "def col_density(wavelength, flux, flux_err, lam_start, lam_end, f = 0.079120, lam_trans = 1025.7223e-8):\n",
    "    delta_lam = ( (wavelength[1]-wavelength[0]) ) * 1e-8\n",
    "    flux = flux[np.multiply(wavelength >= lam_start, wavelength <= lam_end)]\n",
    "    flux_err = flux_err[np.multiply(wavelength >= lam_start, wavelength <= lam_end)]\n",
    "    tau_a = -1 * np.log(abs(flux))\n",
    "    val = np.sum ( ( m_e * ( c ** 2 ) ) / ( pi * ( e ** 2) ) * tau_a / ( f * ( lam_trans ** 2 ) ) ) * delta_lam\n",
    "    error = (m_e * (c ** 2)) / (f * ( lam_trans ** 2 ) * pi * (e ** 2) ) * np.sqrt(np.sum(np.power(flux, -2) * np.power(flux_err, 2))) * delta_lam\n",
    "    return val, error\n",
    "\n",
    "def plotter(start, end, lam, cont_norm_flux, cont_norm_flux_err):\n",
    "    wavelength_range, flux_range, flux_err_range = lamfluxrange(start, end, lam, cont_norm_flux, cont_norm_flux_err)\n",
    "    \n",
    "    fig1 = figure(plot_width=1400, plot_height=400, title='Spectrum', x_axis_label=\"Wavelength (in Å)\", y_axis_label=\"Flux\")\n",
    "    fig1.step(wavelength_range, flux_range)\n",
    "    \n",
    "    fig2 = figure(plot_width=1400, plot_height=200, title='Error', x_axis_label=\"Wavelength (in Å)\", y_axis_label=\"Error in Flux\")\n",
    "    fig2.step(wavelength_range, flux_err_range)\n",
    "    \n",
    "    show(column(fig1, fig2))"
   ]
  },
  {
   "cell_type": "code",
   "execution_count": 6,
   "metadata": {},
   "outputs": [],
   "source": [
    "### Getting data from the .txt file\n",
    "\n",
    "lam, flux, flux_err, continuum = np.genfromtxt(\"PG1424_240_HST.txt\", dtype=float, unpack=True)\n",
    "\n",
    "### Mask to remove NaN values\n",
    "\n",
    "mask = np.isnan(flux)\n",
    "lam, flux, flux_err, continuum = lam[~mask], flux[~mask], flux_err[~mask], continuum[~mask]\n",
    "\n",
    "### Cleaning the data, getting important parameters\n",
    "\n",
    "delta_lam = lam[1] - lam[0]\n",
    "cont_norm_flux = np.divide(flux, continuum)\n",
    "cont_norm_flux_err = np.divide(flux_err, continuum)\n",
    "steps = floor(40./delta_lam)\n",
    "start_init = 0\n",
    "end_init = start_init + steps"
   ]
  },
  {
   "cell_type": "code",
   "execution_count": null,
   "metadata": {},
   "outputs": [
    {
     "name": "stdout",
     "output_type": "stream",
     "text": [
      "Enter a command (d for forward, a for backward, e for equivalent width, s for stop, z for redshift, c for column density): d\n",
      "Enter a command (d for forward, a for backward, e for equivalent width, s for stop, z for redshift, c for column density): d\n",
      "Enter a command (d for forward, a for backward, e for equivalent width, s for stop, z for redshift, c for column density): d\n",
      "Enter a command (d for forward, a for backward, e for equivalent width, s for stop, z for redshift, c for column density): d\n",
      "Enter a command (d for forward, a for backward, e for equivalent width, s for stop, z for redshift, c for column density): c\n",
      "Enter the start wavelength: 1333.5\n",
      "Enter the end wavelength: 1335\n",
      "The Column Density of the line is: 2.28422E+15 per cc +/- 1.97448E+14 per cc\n",
      "Enter a command (d for forward, a for backward, e for equivalent width, s for stop, z for redshift, c for column density): e\n",
      "Enter the start wavelength: 1333.5\n"
     ]
    }
   ],
   "source": [
    "### Initialise the plotting\n",
    "\n",
    "plotter(start_init, end_init, lam, cont_norm_flux, cont_norm_flux_err)\n",
    "\n",
    "### Interactive Plotting and Calculations\n",
    "\n",
    "cmd = input(\"Enter a command (d for forward, a for backward, e for equivalent width, s for stop, z for redshift, c for column density): \")\n",
    "start = start_init\n",
    "end = end_init\n",
    "while(cmd != \"s\"):\n",
    "    if(cmd == 'd'):\n",
    "        start, end = move_forward(lam, start, end)\n",
    "        plotter(start, end, lam, cont_norm_flux, cont_norm_flux_err)\n",
    "    elif(cmd == 'a'):\n",
    "        start, end = move_backward(lam, start, end)\n",
    "        plotter(start, end, lam, cont_norm_flux, cont_norm_flux_err)\n",
    "    elif(cmd == 'e'):\n",
    "        lam_start, lam_end = get_limits()\n",
    "        eqw, err = eq_width(lam, cont_norm_flux, cont_norm_flux_err, lam_start, lam_end)\n",
    "        print(\"The Equivalent width of the line is: \" + str(eqw) + \" Å +/- \" + str(err) + \" Å\")\n",
    "    elif(cmd == 'z'):\n",
    "        lam_start, lam_end = get_limits()\n",
    "        z = np.float(input(\"Enter the redshift of the object: \"))\n",
    "        eqw, err = zeq_width(z, lam, cont_norm_flux, cont_norm_flux_err, lam_start, lam_end)\n",
    "        print(\"The Rest-frame Equivalent width of the line is: \" + str(eqw) + \" Å +/- \" + str(err) + \" Å\")\n",
    "    elif(cmd == 'c'):\n",
    "        lam_start, lam_end = get_limits()\n",
    "        col_den, err = col_density(lam, cont_norm_flux, cont_norm_flux_err, lam_start, lam_end)\n",
    "        print(\"The Column Density of the line is: \" + \"{:.5E}\".format(col_den) + \" per cc +/- \" + \"{:.5E}\".format(err) + \" per cc\")\n",
    "    else:\n",
    "        print(\"Invalid character entered!\")\n",
    "    cmd = input(\"Enter a command (d for forward, a for backward, e for equivalent width, s for stop, z for redshift, c for column density): \")"
   ]
  },
  {
   "cell_type": "code",
   "execution_count": null,
   "metadata": {},
   "outputs": [],
   "source": []
  }
 ],
 "metadata": {
  "kernelspec": {
   "display_name": "Python 3",
   "language": "python",
   "name": "python3"
  },
  "language_info": {
   "codemirror_mode": {
    "name": "ipython",
    "version": 3
   },
   "file_extension": ".py",
   "mimetype": "text/x-python",
   "name": "python",
   "nbconvert_exporter": "python",
   "pygments_lexer": "ipython3",
   "version": "3.7.4"
  }
 },
 "nbformat": 4,
 "nbformat_minor": 4
}
